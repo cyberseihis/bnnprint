{
  "nbformat": 4,
  "nbformat_minor": 0,
  "metadata": {
    "colab": {
      "provenance": [],
      "mount_file_id": "1ANv8wmFT00mWqaNfu38RG9cZJrYtJSzy",
      "authorship_tag": "ABX9TyPGNjhq93Qn+5Qpw9FOWgOK",
      "include_colab_link": true
    },
    "kernelspec": {
      "name": "python3",
      "display_name": "Python 3"
    },
    "language_info": {
      "name": "python"
    }
  },
  "cells": [
    {
      "cell_type": "markdown",
      "metadata": {
        "id": "view-in-github",
        "colab_type": "text"
      },
      "source": [
        "<a href=\"https://colab.research.google.com/github/cyberseihis/bnnprint/blob/main/notebooks/git_colab.ipynb\" target=\"_parent\"><img src=\"https://colab.research.google.com/assets/colab-badge.svg\" alt=\"Open In Colab\"/></a>"
      ]
    },
    {
      "cell_type": "markdown",
      "source": [
        "# Github and drive syncer"
      ],
      "metadata": {
        "id": "7Ruuvun5oCeU"
      }
    },
    {
      "cell_type": "code",
      "execution_count": 5,
      "metadata": {
        "colab": {
          "base_uri": "https://localhost:8080/"
        },
        "id": "Z5gfcd0uoAVE",
        "outputId": "1f1c613b-0579-4d27-c953-ded254c34722"
      },
      "outputs": [
        {
          "output_type": "stream",
          "name": "stdout",
          "text": [
            "/content/drive/MyDrive\n"
          ]
        }
      ],
      "source": [
        "%cd /content/drive/MyDrive"
      ]
    },
    {
      "cell_type": "code",
      "source": [
        "!ls"
      ],
      "metadata": {
        "colab": {
          "base_uri": "https://localhost:8080/"
        },
        "id": "TF5GVqkkol3y",
        "outputId": "a168f332-1107-4a81-9bd0-f634fc7216ae"
      },
      "execution_count": 6,
      "outputs": [
        {
          "output_type": "stream",
          "name": "stdout",
          "text": [
            "'Colab Notebooks'\t\t\t\t    qkerastnn.ipynb\n",
            " dataset\t\t\t\t\t    rfe_naive.ipynb\n",
            " fullprecisiontuner.ipynb\t\t\t    skqktnn.ipynb\n",
            "'legacy colab notebooks-20230404T182831Z-001.zip'   ssh\n",
            " qkerasbnntuner.ipynb\t\t\t\t   'Untitled project.gscript'\n"
          ]
        }
      ]
    },
    {
      "cell_type": "code",
      "source": [
        "!git clone https://github.com/cyberseihis/bnnprint"
      ],
      "metadata": {
        "colab": {
          "base_uri": "https://localhost:8080/"
        },
        "id": "8htev5EfomzK",
        "outputId": "ba61bffd-b335-4fc3-8cf5-c18fe86b9cd0"
      },
      "execution_count": 7,
      "outputs": [
        {
          "output_type": "stream",
          "name": "stdout",
          "text": [
            "Cloning into 'bnnprint'...\n",
            "remote: Enumerating objects: 1809, done.\u001b[K\n",
            "remote: Counting objects: 100% (331/331), done.\u001b[K\n",
            "remote: Compressing objects: 100% (197/197), done.\u001b[K\n",
            "remote: Total 1809 (delta 171), reused 244 (delta 116), pack-reused 1478\u001b[K\n",
            "Receiving objects: 100% (1809/1809), 11.14 MiB | 10.27 MiB/s, done.\n",
            "Resolving deltas: 100% (1135/1135), done.\n",
            "Updating files: 100% (290/290), done.\n"
          ]
        }
      ]
    },
    {
      "cell_type": "code",
      "source": [
        "%cd bnnprint/"
      ],
      "metadata": {
        "colab": {
          "base_uri": "https://localhost:8080/"
        },
        "id": "cokyoEQNpFeB",
        "outputId": "8fa34372-76e0-4058-b798-8c2b8b9eb319"
      },
      "execution_count": 8,
      "outputs": [
        {
          "output_type": "stream",
          "name": "stdout",
          "text": [
            "/content/drive/MyDrive/bnnprint\n"
          ]
        }
      ]
    },
    {
      "cell_type": "code",
      "source": [
        "!ls"
      ],
      "metadata": {
        "colab": {
          "base_uri": "https://localhost:8080/"
        },
        "id": "1ZtnvNl4pWY6",
        "outputId": "d4175651-1419-41e9-ddc1-dd359b131c93"
      },
      "execution_count": 9,
      "outputs": [
        {
          "output_type": "stream",
          "name": "stdout",
          "text": [
            "designs  models  notebooks  stats.csv  trainingdata\n"
          ]
        }
      ]
    },
    {
      "cell_type": "code",
      "source": [
        "!git status"
      ],
      "metadata": {
        "colab": {
          "base_uri": "https://localhost:8080/"
        },
        "id": "_97xow60pXdp",
        "outputId": "c149a4a8-d8cb-408a-9f23-f4e1f141faa0"
      },
      "execution_count": 10,
      "outputs": [
        {
          "output_type": "stream",
          "name": "stdout",
          "text": [
            "On branch main\n",
            "Your branch is up to date with 'origin/main'.\n",
            "\n",
            "nothing to commit, working tree clean\n"
          ]
        }
      ]
    },
    {
      "cell_type": "code",
      "source": [],
      "metadata": {
        "id": "3Rw-prkGpa6I"
      },
      "execution_count": null,
      "outputs": []
    }
  ]
}