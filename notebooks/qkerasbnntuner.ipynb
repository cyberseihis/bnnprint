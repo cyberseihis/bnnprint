{
  "nbformat": 4,
  "nbformat_minor": 0,
  "metadata": {
    "colab": {
      "provenance": [],
      "mount_file_id": "1NKl9OIRU0yFpebktbVNFhtx9mWNtPCo3",
      "authorship_tag": "ABX9TyMF64AHIZo+34PzNchicYvT",
      "include_colab_link": true
    },
    "kernelspec": {
      "name": "python3",
      "display_name": "Python 3"
    },
    "language_info": {
      "name": "python"
    },
    "accelerator": "GPU",
    "gpuClass": "standard"
  },
  "cells": [
    {
      "cell_type": "markdown",
      "metadata": {
        "id": "view-in-github",
        "colab_type": "text"
      },
      "source": [
        "<a href=\"https://colab.research.google.com/github/cyberseihis/bnnprint/blob/main/notebooks/qkerasbnntuner.ipynb\" target=\"_parent\"><img src=\"https://colab.research.google.com/assets/colab-badge.svg\" alt=\"Open In Colab\"/></a>"
      ]
    },
    {
      "cell_type": "code",
      "source": [
        "%pip install keras-tuner QKeras"
      ],
      "metadata": {
        "id": "inCvvA6Y12bn",
        "colab": {
          "base_uri": "https://localhost:8080/"
        },
        "outputId": "4934c4eb-8856-4323-b895-437e4217986d"
      },
      "execution_count": null,
      "outputs": [
        {
          "output_type": "stream",
          "name": "stdout",
          "text": [
            "Looking in indexes: https://pypi.org/simple, https://us-python.pkg.dev/colab-wheels/public/simple/\n",
            "Collecting keras-tuner\n",
            "  Downloading keras_tuner-1.3.0-py3-none-any.whl (167 kB)\n",
            "\u001b[2K     \u001b[90m━━━━━━━━━━━━━━━━━━━━━━━━━━━━━━━━━━━━━━━\u001b[0m \u001b[32m167.3/167.3 KB\u001b[0m \u001b[31m4.2 MB/s\u001b[0m eta \u001b[36m0:00:00\u001b[0m\n",
            "\u001b[?25hCollecting QKeras\n",
            "  Downloading QKeras-0.9.0-py3-none-any.whl (152 kB)\n",
            "\u001b[2K     \u001b[90m━━━━━━━━━━━━━━━━━━━━━━━━━━━━━━━━━━━━━━\u001b[0m \u001b[32m152.8/152.8 KB\u001b[0m \u001b[31m15.3 MB/s\u001b[0m eta \u001b[36m0:00:00\u001b[0m\n",
            "\u001b[?25hCollecting kt-legacy\n",
            "  Downloading kt_legacy-1.0.4-py3-none-any.whl (9.6 kB)\n",
            "Requirement already satisfied: ipython in /usr/local/lib/python3.9/dist-packages (from keras-tuner) (7.9.0)\n",
            "Requirement already satisfied: packaging in /usr/local/lib/python3.9/dist-packages (from keras-tuner) (23.0)\n",
            "Requirement already satisfied: requests in /usr/local/lib/python3.9/dist-packages (from keras-tuner) (2.27.1)\n",
            "Requirement already satisfied: tensorflow>=2.0 in /usr/local/lib/python3.9/dist-packages (from keras-tuner) (2.11.0)\n",
            "Requirement already satisfied: networkx>=2.1 in /usr/local/lib/python3.9/dist-packages (from QKeras) (3.0)\n",
            "Collecting pyparser\n",
            "  Downloading pyparser-1.0.tar.gz (4.0 kB)\n",
            "  Preparing metadata (setup.py) ... \u001b[?25l\u001b[?25hdone\n",
            "Requirement already satisfied: tqdm>=4.48.0 in /usr/local/lib/python3.9/dist-packages (from QKeras) (4.65.0)\n",
            "Requirement already satisfied: numpy>=1.16.0 in /usr/local/lib/python3.9/dist-packages (from QKeras) (1.22.4)\n",
            "Collecting tensorflow-model-optimization>=0.2.1\n",
            "  Downloading tensorflow_model_optimization-0.7.3-py2.py3-none-any.whl (238 kB)\n",
            "\u001b[2K     \u001b[90m━━━━━━━━━━━━━━━━━━━━━━━━━━━━━━━━━━━━━━\u001b[0m \u001b[32m238.9/238.9 KB\u001b[0m \u001b[31m15.7 MB/s\u001b[0m eta \u001b[36m0:00:00\u001b[0m\n",
            "\u001b[?25hRequirement already satisfied: scipy>=1.4.1 in /usr/local/lib/python3.9/dist-packages (from QKeras) (1.10.1)\n",
            "Requirement already satisfied: scikit-learn>=0.23.1 in /usr/local/lib/python3.9/dist-packages (from QKeras) (1.2.2)\n",
            "Requirement already satisfied: setuptools>=41.0.0 in /usr/local/lib/python3.9/dist-packages (from QKeras) (67.6.0)\n",
            "Requirement already satisfied: joblib>=1.1.1 in /usr/local/lib/python3.9/dist-packages (from scikit-learn>=0.23.1->QKeras) (1.1.1)\n",
            "Requirement already satisfied: threadpoolctl>=2.0.0 in /usr/local/lib/python3.9/dist-packages (from scikit-learn>=0.23.1->QKeras) (3.1.0)\n",
            "Requirement already satisfied: absl-py>=1.0.0 in /usr/local/lib/python3.9/dist-packages (from tensorflow>=2.0->keras-tuner) (1.4.0)\n",
            "Requirement already satisfied: tensorboard<2.12,>=2.11 in /usr/local/lib/python3.9/dist-packages (from tensorflow>=2.0->keras-tuner) (2.11.2)\n",
            "Requirement already satisfied: libclang>=13.0.0 in /usr/local/lib/python3.9/dist-packages (from tensorflow>=2.0->keras-tuner) (15.0.6.1)\n",
            "Requirement already satisfied: wrapt>=1.11.0 in /usr/local/lib/python3.9/dist-packages (from tensorflow>=2.0->keras-tuner) (1.15.0)\n",
            "Requirement already satisfied: opt-einsum>=2.3.2 in /usr/local/lib/python3.9/dist-packages (from tensorflow>=2.0->keras-tuner) (3.3.0)\n",
            "Requirement already satisfied: gast<=0.4.0,>=0.2.1 in /usr/local/lib/python3.9/dist-packages (from tensorflow>=2.0->keras-tuner) (0.4.0)\n",
            "Requirement already satisfied: six>=1.12.0 in /usr/local/lib/python3.9/dist-packages (from tensorflow>=2.0->keras-tuner) (1.16.0)\n",
            "Requirement already satisfied: tensorflow-estimator<2.12,>=2.11.0 in /usr/local/lib/python3.9/dist-packages (from tensorflow>=2.0->keras-tuner) (2.11.0)\n",
            "Requirement already satisfied: termcolor>=1.1.0 in /usr/local/lib/python3.9/dist-packages (from tensorflow>=2.0->keras-tuner) (2.2.0)\n",
            "Requirement already satisfied: keras<2.12,>=2.11.0 in /usr/local/lib/python3.9/dist-packages (from tensorflow>=2.0->keras-tuner) (2.11.0)\n",
            "Requirement already satisfied: typing-extensions>=3.6.6 in /usr/local/lib/python3.9/dist-packages (from tensorflow>=2.0->keras-tuner) (4.5.0)\n",
            "Requirement already satisfied: h5py>=2.9.0 in /usr/local/lib/python3.9/dist-packages (from tensorflow>=2.0->keras-tuner) (3.8.0)\n",
            "Requirement already satisfied: google-pasta>=0.1.1 in /usr/local/lib/python3.9/dist-packages (from tensorflow>=2.0->keras-tuner) (0.2.0)\n",
            "Requirement already satisfied: grpcio<2.0,>=1.24.3 in /usr/local/lib/python3.9/dist-packages (from tensorflow>=2.0->keras-tuner) (1.51.3)\n",
            "Requirement already satisfied: protobuf<3.20,>=3.9.2 in /usr/local/lib/python3.9/dist-packages (from tensorflow>=2.0->keras-tuner) (3.19.6)\n",
            "Requirement already satisfied: astunparse>=1.6.0 in /usr/local/lib/python3.9/dist-packages (from tensorflow>=2.0->keras-tuner) (1.6.3)\n",
            "Requirement already satisfied: flatbuffers>=2.0 in /usr/local/lib/python3.9/dist-packages (from tensorflow>=2.0->keras-tuner) (23.3.3)\n",
            "Requirement already satisfied: tensorflow-io-gcs-filesystem>=0.23.1 in /usr/local/lib/python3.9/dist-packages (from tensorflow>=2.0->keras-tuner) (0.31.0)\n",
            "Requirement already satisfied: dm-tree~=0.1.1 in /usr/local/lib/python3.9/dist-packages (from tensorflow-model-optimization>=0.2.1->QKeras) (0.1.8)\n",
            "Requirement already satisfied: pygments in /usr/local/lib/python3.9/dist-packages (from ipython->keras-tuner) (2.6.1)\n",
            "Requirement already satisfied: pickleshare in /usr/local/lib/python3.9/dist-packages (from ipython->keras-tuner) (0.7.5)\n",
            "Requirement already satisfied: prompt-toolkit<2.1.0,>=2.0.0 in /usr/local/lib/python3.9/dist-packages (from ipython->keras-tuner) (2.0.10)\n",
            "Requirement already satisfied: backcall in /usr/local/lib/python3.9/dist-packages (from ipython->keras-tuner) (0.2.0)\n",
            "Requirement already satisfied: pexpect in /usr/local/lib/python3.9/dist-packages (from ipython->keras-tuner) (4.8.0)\n",
            "Collecting jedi>=0.10\n",
            "  Downloading jedi-0.18.2-py2.py3-none-any.whl (1.6 MB)\n",
            "\u001b[2K     \u001b[90m━━━━━━━━━━━━━━━━━━━━━━━━━━━━━━━━━━━━━━━━\u001b[0m \u001b[32m1.6/1.6 MB\u001b[0m \u001b[31m45.3 MB/s\u001b[0m eta \u001b[36m0:00:00\u001b[0m\n",
            "\u001b[?25hRequirement already satisfied: traitlets>=4.2 in /usr/local/lib/python3.9/dist-packages (from ipython->keras-tuner) (5.7.1)\n",
            "Requirement already satisfied: decorator in /usr/local/lib/python3.9/dist-packages (from ipython->keras-tuner) (4.4.2)\n",
            "Collecting parse==1.6.5\n",
            "  Downloading parse-1.6.5.tar.gz (24 kB)\n",
            "  Preparing metadata (setup.py) ... \u001b[?25l\u001b[?25hdone\n",
            "Requirement already satisfied: idna<4,>=2.5 in /usr/local/lib/python3.9/dist-packages (from requests->keras-tuner) (3.4)\n",
            "Requirement already satisfied: charset-normalizer~=2.0.0 in /usr/local/lib/python3.9/dist-packages (from requests->keras-tuner) (2.0.12)\n",
            "Requirement already satisfied: certifi>=2017.4.17 in /usr/local/lib/python3.9/dist-packages (from requests->keras-tuner) (2022.12.7)\n",
            "Requirement already satisfied: urllib3<1.27,>=1.21.1 in /usr/local/lib/python3.9/dist-packages (from requests->keras-tuner) (1.26.15)\n",
            "Requirement already satisfied: wheel<1.0,>=0.23.0 in /usr/local/lib/python3.9/dist-packages (from astunparse>=1.6.0->tensorflow>=2.0->keras-tuner) (0.40.0)\n",
            "Requirement already satisfied: parso<0.9.0,>=0.8.0 in /usr/local/lib/python3.9/dist-packages (from jedi>=0.10->ipython->keras-tuner) (0.8.3)\n",
            "Requirement already satisfied: wcwidth in /usr/local/lib/python3.9/dist-packages (from prompt-toolkit<2.1.0,>=2.0.0->ipython->keras-tuner) (0.2.6)\n",
            "Requirement already satisfied: werkzeug>=1.0.1 in /usr/local/lib/python3.9/dist-packages (from tensorboard<2.12,>=2.11->tensorflow>=2.0->keras-tuner) (2.2.3)\n",
            "Requirement already satisfied: google-auth<3,>=1.6.3 in /usr/local/lib/python3.9/dist-packages (from tensorboard<2.12,>=2.11->tensorflow>=2.0->keras-tuner) (2.16.2)\n",
            "Requirement already satisfied: tensorboard-plugin-wit>=1.6.0 in /usr/local/lib/python3.9/dist-packages (from tensorboard<2.12,>=2.11->tensorflow>=2.0->keras-tuner) (1.8.1)\n",
            "Requirement already satisfied: tensorboard-data-server<0.7.0,>=0.6.0 in /usr/local/lib/python3.9/dist-packages (from tensorboard<2.12,>=2.11->tensorflow>=2.0->keras-tuner) (0.6.1)\n",
            "Requirement already satisfied: google-auth-oauthlib<0.5,>=0.4.1 in /usr/local/lib/python3.9/dist-packages (from tensorboard<2.12,>=2.11->tensorflow>=2.0->keras-tuner) (0.4.6)\n",
            "Requirement already satisfied: markdown>=2.6.8 in /usr/local/lib/python3.9/dist-packages (from tensorboard<2.12,>=2.11->tensorflow>=2.0->keras-tuner) (3.4.1)\n",
            "Requirement already satisfied: ptyprocess>=0.5 in /usr/local/lib/python3.9/dist-packages (from pexpect->ipython->keras-tuner) (0.7.0)\n",
            "Requirement already satisfied: cachetools<6.0,>=2.0.0 in /usr/local/lib/python3.9/dist-packages (from google-auth<3,>=1.6.3->tensorboard<2.12,>=2.11->tensorflow>=2.0->keras-tuner) (5.3.0)\n",
            "Requirement already satisfied: pyasn1-modules>=0.2.1 in /usr/local/lib/python3.9/dist-packages (from google-auth<3,>=1.6.3->tensorboard<2.12,>=2.11->tensorflow>=2.0->keras-tuner) (0.2.8)\n",
            "Requirement already satisfied: rsa<5,>=3.1.4 in /usr/local/lib/python3.9/dist-packages (from google-auth<3,>=1.6.3->tensorboard<2.12,>=2.11->tensorflow>=2.0->keras-tuner) (4.9)\n",
            "Requirement already satisfied: requests-oauthlib>=0.7.0 in /usr/local/lib/python3.9/dist-packages (from google-auth-oauthlib<0.5,>=0.4.1->tensorboard<2.12,>=2.11->tensorflow>=2.0->keras-tuner) (1.3.1)\n",
            "Requirement already satisfied: importlib-metadata>=4.4 in /usr/local/lib/python3.9/dist-packages (from markdown>=2.6.8->tensorboard<2.12,>=2.11->tensorflow>=2.0->keras-tuner) (6.1.0)\n",
            "Requirement already satisfied: MarkupSafe>=2.1.1 in /usr/local/lib/python3.9/dist-packages (from werkzeug>=1.0.1->tensorboard<2.12,>=2.11->tensorflow>=2.0->keras-tuner) (2.1.2)\n",
            "Requirement already satisfied: zipp>=0.5 in /usr/local/lib/python3.9/dist-packages (from importlib-metadata>=4.4->markdown>=2.6.8->tensorboard<2.12,>=2.11->tensorflow>=2.0->keras-tuner) (3.15.0)\n",
            "Requirement already satisfied: pyasn1<0.5.0,>=0.4.6 in /usr/local/lib/python3.9/dist-packages (from pyasn1-modules>=0.2.1->google-auth<3,>=1.6.3->tensorboard<2.12,>=2.11->tensorflow>=2.0->keras-tuner) (0.4.8)\n",
            "Requirement already satisfied: oauthlib>=3.0.0 in /usr/local/lib/python3.9/dist-packages (from requests-oauthlib>=0.7.0->google-auth-oauthlib<0.5,>=0.4.1->tensorboard<2.12,>=2.11->tensorflow>=2.0->keras-tuner) (3.2.2)\n",
            "Building wheels for collected packages: pyparser, parse\n",
            "  Building wheel for pyparser (setup.py) ... \u001b[?25l\u001b[?25hdone\n",
            "  Created wheel for pyparser: filename=pyparser-1.0-py3-none-any.whl size=4941 sha256=6560997c488a8d35871ac37902d90653d90d5a3c0539efc9daaa05d1feec2030\n",
            "  Stored in directory: /root/.cache/pip/wheels/3f/a4/1a/fdbe78211760c69a9c7635d224d3683c8ed2519e01f53a81e0\n",
            "  Building wheel for parse (setup.py) ... \u001b[?25l\u001b[?25hdone\n",
            "  Created wheel for parse: filename=parse-1.6.5-py3-none-any.whl size=18174 sha256=23e12d9fa3447506a33186794990b0e9ce2aac04c9984ad935dfc62f8c2f2e06\n",
            "  Stored in directory: /root/.cache/pip/wheels/37/ef/ff/5004e21f680c6489785b14199d1716e5db6eb05ca497068b1f\n",
            "Successfully built pyparser parse\n",
            "Installing collected packages: parse, kt-legacy, tensorflow-model-optimization, pyparser, jedi, keras-tuner, QKeras\n",
            "Successfully installed QKeras-0.9.0 jedi-0.18.2 keras-tuner-1.3.0 kt-legacy-1.0.4 parse-1.6.5 pyparser-1.0 tensorflow-model-optimization-0.7.3\n"
          ]
        }
      ]
    },
    {
      "cell_type": "code",
      "source": [
        "def get_csv_filenames():\n",
        "    filenames = os.listdir()\n",
        "    csv_filenames = [filename for filename in filenames if filename.endswith(\".csv\")]\n",
        "    return csv_filenames"
      ],
      "metadata": {
        "id": "oHc51wQaItjx"
      },
      "execution_count": null,
      "outputs": []
    },
    {
      "cell_type": "code",
      "source": [
        "from tensorflow import keras\n",
        "from tensorflow.keras import layers\n",
        "from keras_tuner import HyperParameters\n",
        "import keras_tuner as kt\n",
        "from tensorflow.keras.utils import to_categorical\n",
        "\n",
        "import numpy as np\n",
        "import pandas as pd\n",
        "import os\n",
        "\n",
        "# data and metric imports\n",
        "import sklearn.model_selection\n",
        "import sklearn.datasets\n",
        "import sklearn.metrics\n",
        "\n",
        "from qkeras import *\n",
        "import qkeras.utils as qutils\n",
        "\n",
        "\n",
        "def build_model(input_shape, output_shape, hp):\n",
        "    model = keras.Sequential()\n",
        "    model.add(QActivation(\"quantized_bits(4, keep_negative=0)\"))\n",
        "    model.add(QDense(units=40,kernel_quantizer=\"binary\", use_bias=False, input_shape=(input_shape,)))\n",
        "    #model.add(layers.BatchNormalization(scale=False))\n",
        "    #model.add(layers.Activation('relu'))\n",
        "    model.add(QActivation(\"binary\"))\n",
        "    #model.add(layers.Dense(units=output_shape))\n",
        "    #model.add(layers.Dropout(rate=hp.Float(\"dropout\", min_value=0, max_value=0.4)))\n",
        "    model.add(QDense(units=output_shape, kernel_quantizer=\"binary(alpha=1)\", use_bias=False))\n",
        "    model.add(layers.Activation('softmax'))\n",
        "\n",
        "    model.compile(\n",
        "        optimizer=keras.optimizers.Adam(\n",
        "            hp.Float(\"learning_rate\", min_value=0.001, max_value=0.02)),\n",
        "        loss='categorical_crossentropy',\n",
        "        metrics=['accuracy'])\n",
        "    return model\n",
        "\n",
        "\n",
        "def train_csv(fname,tri=20,ep=50):\n",
        "    df = pd.read_csv(fname, header=None)\n",
        "    X = df.iloc[:, :-1]\n",
        "    y = df.iloc[:, -1]\n",
        "    X = pd.DataFrame(X.apply(lambda x: (x - np.min(x)) / (np.max(x) - np.min(x))))\n",
        "    X_train, X_test, y_train, y_test = \\\n",
        "        sklearn.model_selection.train_test_split(X, y, test_size=0.3, random_state=42)\n",
        "    (_, input_shape) = X.shape\n",
        "    output_shape = y.nunique()\n",
        "    y_train = to_categorical(y_train, num_classes=output_shape)\n",
        "    y_test = to_categorical(y_test, num_classes=output_shape)\n",
        "\n",
        "    def my_builder(hp):\n",
        "        return build_model(input_shape, output_shape, hp)\n",
        "\n",
        "    tuna = kt.BayesianOptimization(\n",
        "        hypermodel=my_builder,\n",
        "        objective=\"val_accuracy\",\n",
        "        max_trials=tri,\n",
        "        project_name=\"proj\"+fname\n",
        "    )\n",
        "    early_stop = keras.callbacks.EarlyStopping(monitor='val_loss', patience=5)\n",
        "    tuna.search(X_train, y_train, epochs=ep, validation_data=(X_test, y_test), callbacks=[early_stop])\n",
        "    print(fname+\"summary\")\n",
        "    #tuna.results_summary()\n",
        "    model = tuna.get_best_models(num_models=1)[0]\n",
        "    x_hack = tf.random.normal(shape=(1,input_shape),dtype=tf.float32)\n",
        "    output=model.predict(x_hack)\n",
        "    qutils.model_save_quantized_weights(model,'weights'+fname+'.h5')\n",
        "    model.save(fname+\"fptuner.h5\")\n",
        "    model.evaluate(X_test, y_test)"
      ],
      "metadata": {
        "id": "neAuGGgWFl2e"
      },
      "execution_count": null,
      "outputs": []
    },
    {
      "cell_type": "code",
      "source": [
        "os.chdir('drive/MyDrive/colab notebooks/dataset')"
      ],
      "metadata": {
        "id": "S4a0bOUTQXLm"
      },
      "execution_count": null,
      "outputs": []
    },
    {
      "cell_type": "code",
      "source": [
        "train_csv(\"pendigits.csv\")"
      ],
      "metadata": {
        "colab": {
          "base_uri": "https://localhost:8080/"
        },
        "outputId": "d08fd31b-ce7b-4d65-ef28-7c547342a7ca",
        "id": "hcdq7H_gQb1w"
      },
      "execution_count": null,
      "outputs": [
        {
          "output_type": "stream",
          "name": "stdout",
          "text": [
            "Trial 20 Complete [00h 00m 15s]\n",
            "val_accuracy: 0.8012449741363525\n",
            "\n",
            "Best val_accuracy So Far: 0.8683859705924988\n",
            "Total elapsed time: 00h 05m 43s\n",
            "pendigits.csvsummary\n"
          ]
        },
        {
          "output_type": "stream",
          "name": "stderr",
          "text": [
            "WARNING:tensorflow:5 out of the last 23 calls to <function Model.make_predict_function.<locals>.predict_function at 0x7f77301f94c0> triggered tf.function retracing. Tracing is expensive and the excessive number of tracings could be due to (1) creating @tf.function repeatedly in a loop, (2) passing tensors with different shapes, (3) passing Python objects instead of tensors. For (1), please define your @tf.function outside of the loop. For (2), @tf.function has reduce_retracing=True option that can avoid unnecessary retracing. For (3), please refer to https://www.tensorflow.org/guide/function#controlling_retracing and https://www.tensorflow.org/api_docs/python/tf/function for  more details.\n"
          ]
        },
        {
          "output_type": "stream",
          "name": "stdout",
          "text": [
            "1/1 [==============================] - 0s 360ms/step\n",
            "... quantizing model\n",
            "71/71 [==============================] - 0s 3ms/step - loss: 0.5971 - accuracy: 0.8684\n"
          ]
        }
      ]
    },
    {
      "cell_type": "code",
      "source": [
        "for fname in get_csv_filenames():\n",
        "  train_csv(fname)"
      ],
      "metadata": {
        "colab": {
          "base_uri": "https://localhost:8080/",
          "height": 1000
        },
        "id": "eTbV9bf1SdTl",
        "outputId": "967d181e-2153-495a-f6c7-cd13fd6f7ed7"
      },
      "execution_count": null,
      "outputs": [
        {
          "output_type": "stream",
          "name": "stderr",
          "text": [
            "WARNING:tensorflow:Detecting that an object or model or tf.train.Checkpoint is being deleted with unrestored values. See the following logs for the specific values in question. To silence these warnings, use `status.expect_partial()`. See https://www.tensorflow.org/api_docs/python/tf/train/Checkpoint#restorefor details about the status object returned by the restore function.\n",
            "WARNING:tensorflow:Value in checkpoint could not be found in the restored object: (root).optimizer._variables.1\n",
            "WARNING:tensorflow:Value in checkpoint could not be found in the restored object: (root).optimizer._variables.2\n",
            "WARNING:tensorflow:Value in checkpoint could not be found in the restored object: (root).optimizer._variables.3\n",
            "WARNING:tensorflow:Value in checkpoint could not be found in the restored object: (root).optimizer._variables.4\n",
            "WARNING:tensorflow:Value in checkpoint could not be found in the restored object: (root).optimizer._variables.5\n",
            "WARNING:tensorflow:Value in checkpoint could not be found in the restored object: (root).optimizer._variables.6\n"
          ]
        },
        {
          "output_type": "stream",
          "name": "stdout",
          "text": [
            "Har.csvsummary\n",
            "1/1 [==============================] - 0s 373ms/step\n",
            "... quantizing model\n",
            "  batch_normalization has not been quantized\n",
            "28/28 [==============================] - 0s 3ms/step - loss: 2.9639 - accuracy: 0.4859\n",
            "winequality-red.csvsummary\n"
          ]
        },
        {
          "output_type": "stream",
          "name": "stderr",
          "text": [
            "WARNING:tensorflow:Detecting that an object or model or tf.train.Checkpoint is being deleted with unrestored values. See the following logs for the specific values in question. To silence these warnings, use `status.expect_partial()`. See https://www.tensorflow.org/api_docs/python/tf/train/Checkpoint#restorefor details about the status object returned by the restore function.\n",
            "WARNING:tensorflow:Value in checkpoint could not be found in the restored object: (root).optimizer._variables.1\n",
            "WARNING:tensorflow:Value in checkpoint could not be found in the restored object: (root).optimizer._variables.2\n",
            "WARNING:tensorflow:Value in checkpoint could not be found in the restored object: (root).optimizer._variables.3\n",
            "WARNING:tensorflow:Value in checkpoint could not be found in the restored object: (root).optimizer._variables.4\n",
            "WARNING:tensorflow:Value in checkpoint could not be found in the restored object: (root).optimizer._variables.5\n",
            "WARNING:tensorflow:Value in checkpoint could not be found in the restored object: (root).optimizer._variables.6\n"
          ]
        },
        {
          "output_type": "stream",
          "name": "stdout",
          "text": [
            "1/1 [==============================] - 0s 372ms/step\n",
            "... quantizing model\n",
            "  batch_normalization has not been quantized\n",
            "15/15 [==============================] - 0s 4ms/step - loss: 2.6770 - accuracy: 0.5542\n",
            "arrhythmia.csvsummary\n"
          ]
        },
        {
          "output_type": "stream",
          "name": "stderr",
          "text": [
            "WARNING:tensorflow:Detecting that an object or model or tf.train.Checkpoint is being deleted with unrestored values. See the following logs for the specific values in question. To silence these warnings, use `status.expect_partial()`. See https://www.tensorflow.org/api_docs/python/tf/train/Checkpoint#restorefor details about the status object returned by the restore function.\n",
            "WARNING:tensorflow:Value in checkpoint could not be found in the restored object: (root).optimizer._variables.1\n",
            "WARNING:tensorflow:Value in checkpoint could not be found in the restored object: (root).optimizer._variables.2\n",
            "WARNING:tensorflow:Value in checkpoint could not be found in the restored object: (root).optimizer._variables.3\n",
            "WARNING:tensorflow:Value in checkpoint could not be found in the restored object: (root).optimizer._variables.4\n",
            "WARNING:tensorflow:Value in checkpoint could not be found in the restored object: (root).optimizer._variables.5\n",
            "WARNING:tensorflow:Value in checkpoint could not be found in the restored object: (root).optimizer._variables.6\n"
          ]
        },
        {
          "output_type": "stream",
          "name": "stdout",
          "text": [
            "1/1 [==============================] - 0s 373ms/step\n",
            "... quantizing model\n",
            "  batch_normalization has not been quantized\n",
            "5/5 [==============================] - 0s 5ms/step - loss: nan - accuracy: 0.5926\n",
            "cardio.csvsummary\n"
          ]
        },
        {
          "output_type": "stream",
          "name": "stderr",
          "text": [
            "WARNING:tensorflow:Detecting that an object or model or tf.train.Checkpoint is being deleted with unrestored values. See the following logs for the specific values in question. To silence these warnings, use `status.expect_partial()`. See https://www.tensorflow.org/api_docs/python/tf/train/Checkpoint#restorefor details about the status object returned by the restore function.\n",
            "WARNING:tensorflow:Value in checkpoint could not be found in the restored object: (root).optimizer._variables.1\n",
            "WARNING:tensorflow:Value in checkpoint could not be found in the restored object: (root).optimizer._variables.2\n",
            "WARNING:tensorflow:Value in checkpoint could not be found in the restored object: (root).optimizer._variables.3\n",
            "WARNING:tensorflow:Value in checkpoint could not be found in the restored object: (root).optimizer._variables.4\n",
            "WARNING:tensorflow:Value in checkpoint could not be found in the restored object: (root).optimizer._variables.5\n",
            "WARNING:tensorflow:Value in checkpoint could not be found in the restored object: (root).optimizer._variables.6\n"
          ]
        },
        {
          "output_type": "stream",
          "name": "stdout",
          "text": [
            "1/1 [==============================] - 0s 372ms/step\n",
            "... quantizing model\n",
            "  batch_normalization has not been quantized\n",
            "20/20 [==============================] - 0s 4ms/step - loss: 0.5799 - accuracy: 0.8746\n",
            "winequality-white.csvsummary\n"
          ]
        },
        {
          "output_type": "stream",
          "name": "stderr",
          "text": [
            "WARNING:tensorflow:Detecting that an object or model or tf.train.Checkpoint is being deleted with unrestored values. See the following logs for the specific values in question. To silence these warnings, use `status.expect_partial()`. See https://www.tensorflow.org/api_docs/python/tf/train/Checkpoint#restorefor details about the status object returned by the restore function.\n",
            "WARNING:tensorflow:Value in checkpoint could not be found in the restored object: (root).optimizer._variables.1\n",
            "WARNING:tensorflow:Value in checkpoint could not be found in the restored object: (root).optimizer._variables.2\n",
            "WARNING:tensorflow:Value in checkpoint could not be found in the restored object: (root).optimizer._variables.3\n",
            "WARNING:tensorflow:Value in checkpoint could not be found in the restored object: (root).optimizer._variables.4\n",
            "WARNING:tensorflow:Value in checkpoint could not be found in the restored object: (root).optimizer._variables.5\n",
            "WARNING:tensorflow:Value in checkpoint could not be found in the restored object: (root).optimizer._variables.6\n"
          ]
        },
        {
          "output_type": "stream",
          "name": "stdout",
          "text": [
            "1/1 [==============================] - 1s 558ms/step\n",
            "... quantizing model\n",
            "  batch_normalization has not been quantized\n",
            "46/46 [==============================] - 1s 5ms/step - loss: 2.9946 - accuracy: 0.4844\n"
          ]
        },
        {
          "output_type": "stream",
          "name": "stderr",
          "text": [
            "WARNING:tensorflow:Detecting that an object or model or tf.train.Checkpoint is being deleted with unrestored values. See the following logs for the specific values in question. To silence these warnings, use `status.expect_partial()`. See https://www.tensorflow.org/api_docs/python/tf/train/Checkpoint#restorefor details about the status object returned by the restore function.\n",
            "WARNING:tensorflow:Value in checkpoint could not be found in the restored object: (root).optimizer._variables.1\n",
            "WARNING:tensorflow:Value in checkpoint could not be found in the restored object: (root).optimizer._variables.2\n",
            "WARNING:tensorflow:Value in checkpoint could not be found in the restored object: (root).optimizer._variables.3\n",
            "WARNING:tensorflow:Value in checkpoint could not be found in the restored object: (root).optimizer._variables.4\n",
            "WARNING:tensorflow:Value in checkpoint could not be found in the restored object: (root).optimizer._variables.5\n",
            "WARNING:tensorflow:Value in checkpoint could not be found in the restored object: (root).optimizer._variables.6\n"
          ]
        },
        {
          "output_type": "stream",
          "name": "stdout",
          "text": [
            "gasId.csvsummary\n",
            "1/1 [==============================] - 0s 395ms/step\n",
            "... quantizing model\n",
            "  batch_normalization has not been quantized\n",
            "131/131 [==============================] - 1s 3ms/step - loss: 1.1046 - accuracy: 0.7263\n",
            "pendigits.csvsummary\n"
          ]
        },
        {
          "output_type": "stream",
          "name": "stderr",
          "text": [
            "WARNING:tensorflow:Detecting that an object or model or tf.train.Checkpoint is being deleted with unrestored values. See the following logs for the specific values in question. To silence these warnings, use `status.expect_partial()`. See https://www.tensorflow.org/api_docs/python/tf/train/Checkpoint#restorefor details about the status object returned by the restore function.\n",
            "WARNING:tensorflow:Value in checkpoint could not be found in the restored object: (root).optimizer._variables.1\n",
            "WARNING:tensorflow:Value in checkpoint could not be found in the restored object: (root).optimizer._variables.2\n",
            "WARNING:tensorflow:Value in checkpoint could not be found in the restored object: (root).optimizer._variables.3\n",
            "WARNING:tensorflow:Value in checkpoint could not be found in the restored object: (root).optimizer._variables.4\n",
            "WARNING:tensorflow:Value in checkpoint could not be found in the restored object: (root).optimizer._variables.5\n",
            "WARNING:tensorflow:Value in checkpoint could not be found in the restored object: (root).optimizer._variables.6\n"
          ]
        },
        {
          "output_type": "stream",
          "name": "stdout",
          "text": [
            "1/1 [==============================] - 0s 374ms/step\n",
            "... quantizing model\n",
            "  batch_normalization has not been quantized\n",
            "71/71 [==============================] - 0s 3ms/step - loss: 0.5642 - accuracy: 0.8635\n"
          ]
        },
        {
          "output_type": "error",
          "ename": "IsADirectoryError",
          "evalue": "ignored",
          "traceback": [
            "\u001b[0;31m---------------------------------------------------------------------------\u001b[0m",
            "\u001b[0;31mIsADirectoryError\u001b[0m                         Traceback (most recent call last)",
            "\u001b[0;32m<ipython-input-9-e9e5656c5484>\u001b[0m in \u001b[0;36m<module>\u001b[0;34m\u001b[0m\n\u001b[1;32m      1\u001b[0m \u001b[0;32mfor\u001b[0m \u001b[0mfname\u001b[0m \u001b[0;32min\u001b[0m \u001b[0mget_csv_filenames\u001b[0m\u001b[0;34m(\u001b[0m\u001b[0;34m)\u001b[0m\u001b[0;34m:\u001b[0m\u001b[0;34m\u001b[0m\u001b[0;34m\u001b[0m\u001b[0m\n\u001b[0;32m----> 2\u001b[0;31m   \u001b[0mtrain_csv\u001b[0m\u001b[0;34m(\u001b[0m\u001b[0mfname\u001b[0m\u001b[0;34m)\u001b[0m\u001b[0;34m\u001b[0m\u001b[0;34m\u001b[0m\u001b[0m\n\u001b[0m",
            "\u001b[0;32m<ipython-input-7-73575b736a7e>\u001b[0m in \u001b[0;36mtrain_csv\u001b[0;34m(fname, tri, ep)\u001b[0m\n\u001b[1;32m     39\u001b[0m \u001b[0;34m\u001b[0m\u001b[0m\n\u001b[1;32m     40\u001b[0m \u001b[0;32mdef\u001b[0m \u001b[0mtrain_csv\u001b[0m\u001b[0;34m(\u001b[0m\u001b[0mfname\u001b[0m\u001b[0;34m,\u001b[0m\u001b[0mtri\u001b[0m\u001b[0;34m=\u001b[0m\u001b[0;36m20\u001b[0m\u001b[0;34m,\u001b[0m\u001b[0mep\u001b[0m\u001b[0;34m=\u001b[0m\u001b[0;36m50\u001b[0m\u001b[0;34m)\u001b[0m\u001b[0;34m:\u001b[0m\u001b[0;34m\u001b[0m\u001b[0;34m\u001b[0m\u001b[0m\n\u001b[0;32m---> 41\u001b[0;31m     \u001b[0mdf\u001b[0m \u001b[0;34m=\u001b[0m \u001b[0mpd\u001b[0m\u001b[0;34m.\u001b[0m\u001b[0mread_csv\u001b[0m\u001b[0;34m(\u001b[0m\u001b[0mfname\u001b[0m\u001b[0;34m,\u001b[0m \u001b[0mheader\u001b[0m\u001b[0;34m=\u001b[0m\u001b[0;32mNone\u001b[0m\u001b[0;34m)\u001b[0m\u001b[0;34m\u001b[0m\u001b[0;34m\u001b[0m\u001b[0m\n\u001b[0m\u001b[1;32m     42\u001b[0m     \u001b[0mX\u001b[0m \u001b[0;34m=\u001b[0m \u001b[0mdf\u001b[0m\u001b[0;34m.\u001b[0m\u001b[0miloc\u001b[0m\u001b[0;34m[\u001b[0m\u001b[0;34m:\u001b[0m\u001b[0;34m,\u001b[0m \u001b[0;34m:\u001b[0m\u001b[0;34m-\u001b[0m\u001b[0;36m1\u001b[0m\u001b[0;34m]\u001b[0m\u001b[0;34m\u001b[0m\u001b[0;34m\u001b[0m\u001b[0m\n\u001b[1;32m     43\u001b[0m     \u001b[0my\u001b[0m \u001b[0;34m=\u001b[0m \u001b[0mdf\u001b[0m\u001b[0;34m.\u001b[0m\u001b[0miloc\u001b[0m\u001b[0;34m[\u001b[0m\u001b[0;34m:\u001b[0m\u001b[0;34m,\u001b[0m \u001b[0;34m-\u001b[0m\u001b[0;36m1\u001b[0m\u001b[0;34m]\u001b[0m\u001b[0;34m\u001b[0m\u001b[0;34m\u001b[0m\u001b[0m\n",
            "\u001b[0;32m/usr/local/lib/python3.8/dist-packages/pandas/util/_decorators.py\u001b[0m in \u001b[0;36mwrapper\u001b[0;34m(*args, **kwargs)\u001b[0m\n\u001b[1;32m    309\u001b[0m                     \u001b[0mstacklevel\u001b[0m\u001b[0;34m=\u001b[0m\u001b[0mstacklevel\u001b[0m\u001b[0;34m,\u001b[0m\u001b[0;34m\u001b[0m\u001b[0;34m\u001b[0m\u001b[0m\n\u001b[1;32m    310\u001b[0m                 )\n\u001b[0;32m--> 311\u001b[0;31m             \u001b[0;32mreturn\u001b[0m \u001b[0mfunc\u001b[0m\u001b[0;34m(\u001b[0m\u001b[0;34m*\u001b[0m\u001b[0margs\u001b[0m\u001b[0;34m,\u001b[0m \u001b[0;34m**\u001b[0m\u001b[0mkwargs\u001b[0m\u001b[0;34m)\u001b[0m\u001b[0;34m\u001b[0m\u001b[0;34m\u001b[0m\u001b[0m\n\u001b[0m\u001b[1;32m    312\u001b[0m \u001b[0;34m\u001b[0m\u001b[0m\n\u001b[1;32m    313\u001b[0m         \u001b[0;32mreturn\u001b[0m \u001b[0mwrapper\u001b[0m\u001b[0;34m\u001b[0m\u001b[0;34m\u001b[0m\u001b[0m\n",
            "\u001b[0;32m/usr/local/lib/python3.8/dist-packages/pandas/io/parsers/readers.py\u001b[0m in \u001b[0;36mread_csv\u001b[0;34m(filepath_or_buffer, sep, delimiter, header, names, index_col, usecols, squeeze, prefix, mangle_dupe_cols, dtype, engine, converters, true_values, false_values, skipinitialspace, skiprows, skipfooter, nrows, na_values, keep_default_na, na_filter, verbose, skip_blank_lines, parse_dates, infer_datetime_format, keep_date_col, date_parser, dayfirst, cache_dates, iterator, chunksize, compression, thousands, decimal, lineterminator, quotechar, quoting, doublequote, escapechar, comment, encoding, encoding_errors, dialect, error_bad_lines, warn_bad_lines, on_bad_lines, delim_whitespace, low_memory, memory_map, float_precision, storage_options)\u001b[0m\n\u001b[1;32m    584\u001b[0m     \u001b[0mkwds\u001b[0m\u001b[0;34m.\u001b[0m\u001b[0mupdate\u001b[0m\u001b[0;34m(\u001b[0m\u001b[0mkwds_defaults\u001b[0m\u001b[0;34m)\u001b[0m\u001b[0;34m\u001b[0m\u001b[0;34m\u001b[0m\u001b[0m\n\u001b[1;32m    585\u001b[0m \u001b[0;34m\u001b[0m\u001b[0m\n\u001b[0;32m--> 586\u001b[0;31m     \u001b[0;32mreturn\u001b[0m \u001b[0m_read\u001b[0m\u001b[0;34m(\u001b[0m\u001b[0mfilepath_or_buffer\u001b[0m\u001b[0;34m,\u001b[0m \u001b[0mkwds\u001b[0m\u001b[0;34m)\u001b[0m\u001b[0;34m\u001b[0m\u001b[0;34m\u001b[0m\u001b[0m\n\u001b[0m\u001b[1;32m    587\u001b[0m \u001b[0;34m\u001b[0m\u001b[0m\n\u001b[1;32m    588\u001b[0m \u001b[0;34m\u001b[0m\u001b[0m\n",
            "\u001b[0;32m/usr/local/lib/python3.8/dist-packages/pandas/io/parsers/readers.py\u001b[0m in \u001b[0;36m_read\u001b[0;34m(filepath_or_buffer, kwds)\u001b[0m\n\u001b[1;32m    480\u001b[0m \u001b[0;34m\u001b[0m\u001b[0m\n\u001b[1;32m    481\u001b[0m     \u001b[0;31m# Create the parser.\u001b[0m\u001b[0;34m\u001b[0m\u001b[0;34m\u001b[0m\u001b[0;34m\u001b[0m\u001b[0m\n\u001b[0;32m--> 482\u001b[0;31m     \u001b[0mparser\u001b[0m \u001b[0;34m=\u001b[0m \u001b[0mTextFileReader\u001b[0m\u001b[0;34m(\u001b[0m\u001b[0mfilepath_or_buffer\u001b[0m\u001b[0;34m,\u001b[0m \u001b[0;34m**\u001b[0m\u001b[0mkwds\u001b[0m\u001b[0;34m)\u001b[0m\u001b[0;34m\u001b[0m\u001b[0;34m\u001b[0m\u001b[0m\n\u001b[0m\u001b[1;32m    483\u001b[0m \u001b[0;34m\u001b[0m\u001b[0m\n\u001b[1;32m    484\u001b[0m     \u001b[0;32mif\u001b[0m \u001b[0mchunksize\u001b[0m \u001b[0;32mor\u001b[0m \u001b[0miterator\u001b[0m\u001b[0;34m:\u001b[0m\u001b[0;34m\u001b[0m\u001b[0;34m\u001b[0m\u001b[0m\n",
            "\u001b[0;32m/usr/local/lib/python3.8/dist-packages/pandas/io/parsers/readers.py\u001b[0m in \u001b[0;36m__init__\u001b[0;34m(self, f, engine, **kwds)\u001b[0m\n\u001b[1;32m    809\u001b[0m             \u001b[0mself\u001b[0m\u001b[0;34m.\u001b[0m\u001b[0moptions\u001b[0m\u001b[0;34m[\u001b[0m\u001b[0;34m\"has_index_names\"\u001b[0m\u001b[0;34m]\u001b[0m \u001b[0;34m=\u001b[0m \u001b[0mkwds\u001b[0m\u001b[0;34m[\u001b[0m\u001b[0;34m\"has_index_names\"\u001b[0m\u001b[0;34m]\u001b[0m\u001b[0;34m\u001b[0m\u001b[0;34m\u001b[0m\u001b[0m\n\u001b[1;32m    810\u001b[0m \u001b[0;34m\u001b[0m\u001b[0m\n\u001b[0;32m--> 811\u001b[0;31m         \u001b[0mself\u001b[0m\u001b[0;34m.\u001b[0m\u001b[0m_engine\u001b[0m \u001b[0;34m=\u001b[0m \u001b[0mself\u001b[0m\u001b[0;34m.\u001b[0m\u001b[0m_make_engine\u001b[0m\u001b[0;34m(\u001b[0m\u001b[0mself\u001b[0m\u001b[0;34m.\u001b[0m\u001b[0mengine\u001b[0m\u001b[0;34m)\u001b[0m\u001b[0;34m\u001b[0m\u001b[0;34m\u001b[0m\u001b[0m\n\u001b[0m\u001b[1;32m    812\u001b[0m \u001b[0;34m\u001b[0m\u001b[0m\n\u001b[1;32m    813\u001b[0m     \u001b[0;32mdef\u001b[0m \u001b[0mclose\u001b[0m\u001b[0;34m(\u001b[0m\u001b[0mself\u001b[0m\u001b[0;34m)\u001b[0m\u001b[0;34m:\u001b[0m\u001b[0;34m\u001b[0m\u001b[0;34m\u001b[0m\u001b[0m\n",
            "\u001b[0;32m/usr/local/lib/python3.8/dist-packages/pandas/io/parsers/readers.py\u001b[0m in \u001b[0;36m_make_engine\u001b[0;34m(self, engine)\u001b[0m\n\u001b[1;32m   1038\u001b[0m             )\n\u001b[1;32m   1039\u001b[0m         \u001b[0;31m# error: Too many arguments for \"ParserBase\"\u001b[0m\u001b[0;34m\u001b[0m\u001b[0;34m\u001b[0m\u001b[0;34m\u001b[0m\u001b[0m\n\u001b[0;32m-> 1040\u001b[0;31m         \u001b[0;32mreturn\u001b[0m \u001b[0mmapping\u001b[0m\u001b[0;34m[\u001b[0m\u001b[0mengine\u001b[0m\u001b[0;34m]\u001b[0m\u001b[0;34m(\u001b[0m\u001b[0mself\u001b[0m\u001b[0;34m.\u001b[0m\u001b[0mf\u001b[0m\u001b[0;34m,\u001b[0m \u001b[0;34m**\u001b[0m\u001b[0mself\u001b[0m\u001b[0;34m.\u001b[0m\u001b[0moptions\u001b[0m\u001b[0;34m)\u001b[0m  \u001b[0;31m# type: ignore[call-arg]\u001b[0m\u001b[0;34m\u001b[0m\u001b[0;34m\u001b[0m\u001b[0m\n\u001b[0m\u001b[1;32m   1041\u001b[0m \u001b[0;34m\u001b[0m\u001b[0m\n\u001b[1;32m   1042\u001b[0m     \u001b[0;32mdef\u001b[0m \u001b[0m_failover_to_python\u001b[0m\u001b[0;34m(\u001b[0m\u001b[0mself\u001b[0m\u001b[0;34m)\u001b[0m\u001b[0;34m:\u001b[0m\u001b[0;34m\u001b[0m\u001b[0;34m\u001b[0m\u001b[0m\n",
            "\u001b[0;32m/usr/local/lib/python3.8/dist-packages/pandas/io/parsers/c_parser_wrapper.py\u001b[0m in \u001b[0;36m__init__\u001b[0;34m(self, src, **kwds)\u001b[0m\n\u001b[1;32m     49\u001b[0m \u001b[0;34m\u001b[0m\u001b[0m\n\u001b[1;32m     50\u001b[0m         \u001b[0;31m# open handles\u001b[0m\u001b[0;34m\u001b[0m\u001b[0;34m\u001b[0m\u001b[0;34m\u001b[0m\u001b[0m\n\u001b[0;32m---> 51\u001b[0;31m         \u001b[0mself\u001b[0m\u001b[0;34m.\u001b[0m\u001b[0m_open_handles\u001b[0m\u001b[0;34m(\u001b[0m\u001b[0msrc\u001b[0m\u001b[0;34m,\u001b[0m \u001b[0mkwds\u001b[0m\u001b[0;34m)\u001b[0m\u001b[0;34m\u001b[0m\u001b[0;34m\u001b[0m\u001b[0m\n\u001b[0m\u001b[1;32m     52\u001b[0m         \u001b[0;32massert\u001b[0m \u001b[0mself\u001b[0m\u001b[0;34m.\u001b[0m\u001b[0mhandles\u001b[0m \u001b[0;32mis\u001b[0m \u001b[0;32mnot\u001b[0m \u001b[0;32mNone\u001b[0m\u001b[0;34m\u001b[0m\u001b[0;34m\u001b[0m\u001b[0m\n\u001b[1;32m     53\u001b[0m \u001b[0;34m\u001b[0m\u001b[0m\n",
            "\u001b[0;32m/usr/local/lib/python3.8/dist-packages/pandas/io/parsers/base_parser.py\u001b[0m in \u001b[0;36m_open_handles\u001b[0;34m(self, src, kwds)\u001b[0m\n\u001b[1;32m    220\u001b[0m         \u001b[0mLet\u001b[0m \u001b[0mthe\u001b[0m \u001b[0mreaders\u001b[0m \u001b[0mopen\u001b[0m \u001b[0mIOHandles\u001b[0m \u001b[0mafter\u001b[0m \u001b[0mthey\u001b[0m \u001b[0mare\u001b[0m \u001b[0mdone\u001b[0m \u001b[0;32mwith\u001b[0m \u001b[0mtheir\u001b[0m \u001b[0mpotential\u001b[0m \u001b[0mraises\u001b[0m\u001b[0;34m.\u001b[0m\u001b[0;34m\u001b[0m\u001b[0;34m\u001b[0m\u001b[0m\n\u001b[1;32m    221\u001b[0m         \"\"\"\n\u001b[0;32m--> 222\u001b[0;31m         self.handles = get_handle(\n\u001b[0m\u001b[1;32m    223\u001b[0m             \u001b[0msrc\u001b[0m\u001b[0;34m,\u001b[0m\u001b[0;34m\u001b[0m\u001b[0;34m\u001b[0m\u001b[0m\n\u001b[1;32m    224\u001b[0m             \u001b[0;34m\"r\"\u001b[0m\u001b[0;34m,\u001b[0m\u001b[0;34m\u001b[0m\u001b[0;34m\u001b[0m\u001b[0m\n",
            "\u001b[0;32m/usr/local/lib/python3.8/dist-packages/pandas/io/common.py\u001b[0m in \u001b[0;36mget_handle\u001b[0;34m(path_or_buf, mode, encoding, compression, memory_map, is_text, errors, storage_options)\u001b[0m\n\u001b[1;32m    700\u001b[0m         \u001b[0;32mif\u001b[0m \u001b[0mioargs\u001b[0m\u001b[0;34m.\u001b[0m\u001b[0mencoding\u001b[0m \u001b[0;32mand\u001b[0m \u001b[0;34m\"b\"\u001b[0m \u001b[0;32mnot\u001b[0m \u001b[0;32min\u001b[0m \u001b[0mioargs\u001b[0m\u001b[0;34m.\u001b[0m\u001b[0mmode\u001b[0m\u001b[0;34m:\u001b[0m\u001b[0;34m\u001b[0m\u001b[0;34m\u001b[0m\u001b[0m\n\u001b[1;32m    701\u001b[0m             \u001b[0;31m# Encoding\u001b[0m\u001b[0;34m\u001b[0m\u001b[0;34m\u001b[0m\u001b[0;34m\u001b[0m\u001b[0m\n\u001b[0;32m--> 702\u001b[0;31m             handle = open(\n\u001b[0m\u001b[1;32m    703\u001b[0m                 \u001b[0mhandle\u001b[0m\u001b[0;34m,\u001b[0m\u001b[0;34m\u001b[0m\u001b[0;34m\u001b[0m\u001b[0m\n\u001b[1;32m    704\u001b[0m                 \u001b[0mioargs\u001b[0m\u001b[0;34m.\u001b[0m\u001b[0mmode\u001b[0m\u001b[0;34m,\u001b[0m\u001b[0;34m\u001b[0m\u001b[0;34m\u001b[0m\u001b[0m\n",
            "\u001b[0;31mIsADirectoryError\u001b[0m: [Errno 21] Is a directory: 'projHar.csv'"
          ]
        }
      ]
    },
    {
      "cell_type": "code",
      "source": [
        "df = pd.read_csv('winequality_white.csv', header=None)\n",
        "Xx = df.iloc[:, :-1]\n",
        "y = df.iloc[:, -1]\n",
        "X = pd.DataFrame(Xx.apply(lambda x: (x - np.min(x)) / (np.max(x) - np.min(x))))"
      ],
      "metadata": {
        "id": "6PmoZA1QvPZy"
      },
      "execution_count": null,
      "outputs": []
    },
    {
      "cell_type": "code",
      "source": [
        "%pip install h5py\n"
      ],
      "metadata": {
        "id": "f5iODGC7ZaP5",
        "colab": {
          "base_uri": "https://localhost:8080/"
        },
        "outputId": "fb3968b4-b37d-4b5d-ab53-4e8712b49958"
      },
      "execution_count": null,
      "outputs": [
        {
          "output_type": "stream",
          "name": "stdout",
          "text": [
            "Looking in indexes: https://pypi.org/simple, https://us-python.pkg.dev/colab-wheels/public/simple/\n",
            "Requirement already satisfied: h5py in /usr/local/lib/python3.8/dist-packages (3.1.0)\n",
            "Requirement already satisfied: numpy>=1.17.5 in /usr/local/lib/python3.8/dist-packages (from h5py) (1.22.4)\n"
          ]
        }
      ]
    },
    {
      "cell_type": "code",
      "source": [
        "from keras.models import load_model\n",
        "\n",
        "# Load the model from the HDF5 file\n",
        "model = load_model('winequality_white.csvfptuner.h5', custom_objects={'QActivation': QActivation,'QDense':QDense})"
      ],
      "metadata": {
        "colab": {
          "base_uri": "https://localhost:8080/"
        },
        "id": "SURAbh5-mpe0",
        "outputId": "56a0c323-7c46-4d04-89a4-40a51eb16df6"
      },
      "execution_count": null,
      "outputs": [
        {
          "output_type": "stream",
          "name": "stderr",
          "text": [
            "WARNING:tensorflow:From /usr/local/lib/python3.9/dist-packages/tensorflow/python/autograph/pyct/static_analysis/liveness.py:83: Analyzer.lamba_check (from tensorflow.python.autograph.pyct.static_analysis.liveness) is deprecated and will be removed after 2023-09-23.\n",
            "Instructions for updating:\n",
            "Lambda fuctions will be no more assumed to be used in the statement where they are used, or at least in the same block. https://github.com/tensorflow/tensorflow/issues/56089\n",
            "/usr/local/lib/python3.9/dist-packages/keras/initializers/initializers_v2.py:120: UserWarning: The initializer HeNormal is unseeded and being called multiple times, which will return identical values  each time (even if the initializer is unseeded). Please update your code to provide a seed to the initializer, or avoid using the same initalizer instance more than once.\n",
            "  warnings.warn(\n"
          ]
        }
      ]
    },
    {
      "cell_type": "code",
      "source": [
        "#x_hack = tf.random.normal(shape=(1,16),dtype=tf.float32)\n",
        "#x_hack = tf.abs(x_hack)\n",
        "#output=model.predict(x_hack)\n",
        "#inpux = np.expand_dims(X.iloc[0], axis=0)\n",
        "inpux = X.iloc[0:5]\n",
        "#inpux = np.array([[1,1,1,1,1,1,1,1,1,1,1,1,1,1,1,1]])\n",
        "lo=get_layer_outputs(model,inpux)\n",
        "yoyo = lo[2]\n",
        "gol = lo[4]\n",
        "lo"
      ],
      "metadata": {
        "id": "XlKZSNDWobPr",
        "colab": {
          "base_uri": "https://localhost:8080/"
        },
        "outputId": "c4b31806-2e03-43cd-99ec-3240b1a5f84d"
      },
      "execution_count": null,
      "outputs": [
        {
          "output_type": "execute_result",
          "data": {
            "text/plain": [
              "[array([[0.3125, 0.1875, 0.1875, 0.3125, 0.125 , 0.125 , 0.375 , 0.25  ,\n",
              "         0.25  , 0.25  , 0.125 ],\n",
              "        [0.25  , 0.1875, 0.1875, 0.    , 0.125 , 0.0625, 0.3125, 0.125 ,\n",
              "         0.5   , 0.3125, 0.25  ],\n",
              "        [0.4375, 0.1875, 0.25  , 0.125 , 0.125 , 0.125 , 0.1875, 0.125 ,\n",
              "         0.5   , 0.25  , 0.3125],\n",
              "        [0.3125, 0.125 , 0.1875, 0.125 , 0.125 , 0.1875, 0.4375, 0.1875,\n",
              "         0.4375, 0.1875, 0.3125],\n",
              "        [0.3125, 0.125 , 0.1875, 0.125 , 0.125 , 0.1875, 0.4375, 0.1875,\n",
              "         0.4375, 0.1875, 0.3125]], dtype=float32),\n",
              " array([[ 0.5      ,  0.5      ,  0.       , -0.25     ,  0.       ,\n",
              "         -0.28125  , -0.1875   ,  0.21875  ,  0.       , -0.1875   ,\n",
              "          0.0625   , -0.03125  ,  0.       ,  0.15625  ,  0.0625   ,\n",
              "         -0.125    ,  0.6875   ,  0.       ,  1.125    , -0.1875   ,\n",
              "         -0.28125  , -0.03125  , -0.0625   ,  0.       , -0.8125   ,\n",
              "         -0.15625  ,  0.       ,  0.0625   ,  0.125    ,  0.21875  ,\n",
              "          0.5      , -0.125    ,  0.375    ,  0.       ,  0.1875   ,\n",
              "          0.0625   , -0.3125   ,  0.125    , -0.3125   , -0.5625   ],\n",
              "        [ 0.84375  ,  0.46875  , -0.15625  , -0.203125 ,  0.015625 ,\n",
              "         -0.265625 , -0.046875 ,  0.265625 , -0.234375 , -0.46875  ,\n",
              "         -0.28125  ,  0.046875 ,  0.03125  ,  0.296875 ,  0.09375  ,\n",
              "         -0.015625 ,  0.40625  ,  0.015625 ,  1.09375  , -0.203125 ,\n",
              "         -0.265625 , -0.0703125, -0.015625 ,  0.015625 , -0.84375  ,\n",
              "         -0.359375 ,  0.046875 ,  0.03125  , -0.03125  ,  0.171875 ,\n",
              "          0.46875  , -0.046875 ,  0.21875  , -0.140625 ,  0.296875 ,\n",
              "          0.015625 , -0.09375  , -0.109375 , -0.296875 , -0.96875  ],\n",
              "        [ 0.625    ,  0.6875   , -0.3125   , -0.09375  ,  0.15625  ,\n",
              "         -0.28125  , -0.03125  ,  0.25     , -0.28125  , -0.5625   ,\n",
              "         -0.25     , -0.09375  , -0.125    ,  0.25     ,  0.0625   ,\n",
              "          0.03125  ,  0.375    ,  0.03125  ,  1.1875   , -0.1875   ,\n",
              "         -0.28125  , -0.015625 ,  0.       ,  0.03125  , -0.9375   ,\n",
              "         -0.4375   ,  0.09375  ,  0.0625   ,  0.       ,  0.34375  ,\n",
              "          0.6875   ,  0.       ,  0.125    , -0.15625  ,  0.15625  ,\n",
              "         -0.03125  , -0.125    ,  0.03125  , -0.28125  , -0.9375   ],\n",
              "        [ 0.6875   ,  0.375    , -0.0625   , -0.15625  ,  0.09375  ,\n",
              "         -0.25     , -0.15625  ,  0.25     , -0.125    , -0.25     ,\n",
              "         -0.1875   ,  0.       ,  0.0625   ,  0.1875   ,  0.3125   ,\n",
              "         -0.0625   ,  0.5625   ,  0.09375  ,  1.125    , -0.25     ,\n",
              "         -0.25     , -0.046875 ,  0.03125  , -0.03125  , -0.9375   ,\n",
              "         -0.28125  ,  0.03125  , -0.1875   ,  0.0625   ,  0.28125  ,\n",
              "          0.5625   , -0.09375  ,  0.25     , -0.03125  ,  0.1875   ,\n",
              "          0.03125  , -0.25     , -0.03125  , -0.375    , -0.8125   ],\n",
              "        [ 0.6875   ,  0.375    , -0.0625   , -0.15625  ,  0.09375  ,\n",
              "         -0.25     , -0.15625  ,  0.25     , -0.125    , -0.25     ,\n",
              "         -0.1875   ,  0.       ,  0.0625   ,  0.1875   ,  0.3125   ,\n",
              "         -0.0625   ,  0.5625   ,  0.09375  ,  1.125    , -0.25     ,\n",
              "         -0.25     , -0.046875 ,  0.03125  , -0.03125  , -0.9375   ,\n",
              "         -0.28125  ,  0.03125  , -0.1875   ,  0.0625   ,  0.28125  ,\n",
              "          0.5625   , -0.09375  ,  0.25     , -0.03125  ,  0.1875   ,\n",
              "          0.03125  , -0.25     , -0.03125  , -0.375    , -0.8125   ]],\n",
              "       dtype=float32),\n",
              " array([[ 1.,  1.,  1., -1.,  1., -1., -1.,  1.,  1., -1.,  1., -1.,  1.,\n",
              "          1.,  1., -1.,  1.,  1.,  1., -1., -1., -1., -1.,  1., -1., -1.,\n",
              "          1.,  1.,  1.,  1.,  1., -1.,  1.,  1.,  1.,  1., -1.,  1., -1.,\n",
              "         -1.],\n",
              "        [ 1.,  1., -1., -1.,  1., -1., -1.,  1., -1., -1., -1.,  1.,  1.,\n",
              "          1.,  1., -1.,  1.,  1.,  1., -1., -1., -1., -1.,  1., -1., -1.,\n",
              "          1.,  1., -1.,  1.,  1., -1.,  1., -1.,  1.,  1., -1., -1., -1.,\n",
              "         -1.],\n",
              "        [ 1.,  1., -1., -1.,  1., -1., -1.,  1., -1., -1., -1., -1., -1.,\n",
              "          1.,  1.,  1.,  1.,  1.,  1., -1., -1., -1.,  1.,  1., -1., -1.,\n",
              "          1.,  1.,  1.,  1.,  1.,  1.,  1., -1.,  1., -1., -1.,  1., -1.,\n",
              "         -1.],\n",
              "        [ 1.,  1., -1., -1.,  1., -1., -1.,  1., -1., -1., -1.,  1.,  1.,\n",
              "          1.,  1., -1.,  1.,  1.,  1., -1., -1., -1.,  1., -1., -1., -1.,\n",
              "          1., -1.,  1.,  1.,  1., -1.,  1., -1.,  1.,  1., -1., -1., -1.,\n",
              "         -1.],\n",
              "        [ 1.,  1., -1., -1.,  1., -1., -1.,  1., -1., -1., -1.,  1.,  1.,\n",
              "          1.,  1., -1.,  1.,  1.,  1., -1., -1., -1.,  1., -1., -1., -1.,\n",
              "          1., -1.,  1.,  1.,  1., -1.,  1., -1.,  1.,  1., -1., -1., -1.,\n",
              "         -1.]], dtype=float32),\n",
              " array([[  2.,   0.,  10.,   6.,   6.,   2., -10.],\n",
              "        [  8.,   6.,  16.,  16.,   8.,   8.,  -4.],\n",
              "        [  0.,   2.,   8.,  12.,   0.,   0., -12.],\n",
              "        [  0.,   2.,  12.,  12.,   4.,   8.,  -4.],\n",
              "        [  0.,   2.,  12.,  12.,   4.,   8.,  -4.]], dtype=float32),\n",
              " array([[3.2338494e-04, 4.3765394e-05, 9.6399695e-01, 1.7656220e-02,\n",
              "         1.7656220e-02, 3.2338494e-04, 1.9869457e-09],\n",
              "        [1.6764316e-04, 2.2688035e-05, 4.9973723e-01, 4.9973723e-01,\n",
              "         1.6764316e-04, 1.6764316e-04, 1.0300351e-09],\n",
              "        [6.0333232e-06, 4.4580564e-05, 1.7985083e-02, 9.8195225e-01,\n",
              "         6.0333232e-06, 6.0333232e-06, 3.7070021e-11],\n",
              "        [3.0436440e-06, 2.2489656e-05, 4.9536765e-01, 4.9536765e-01,\n",
              "         1.6617733e-04, 9.0729753e-03, 5.5746284e-08],\n",
              "        [3.0436440e-06, 2.2489656e-05, 4.9536765e-01, 4.9536765e-01,\n",
              "         1.6617733e-04, 9.0729753e-03, 5.5746284e-08]], dtype=float32)]"
            ]
          },
          "metadata": {},
          "execution_count": 7
        }
      ]
    },
    {
      "cell_type": "code",
      "source": [
        "(lo[3]+40)/2"
      ],
      "metadata": {
        "colab": {
          "base_uri": "https://localhost:8080/"
        },
        "id": "TuLjmS4KaKZ2",
        "outputId": "d72d1ee8-5ee2-4fc0-ca53-307e5e822ea1"
      },
      "execution_count": null,
      "outputs": [
        {
          "output_type": "execute_result",
          "data": {
            "text/plain": [
              "array([[21., 20., 25., 23., 23., 21., 15.],\n",
              "       [24., 23., 28., 28., 24., 24., 18.],\n",
              "       [20., 21., 24., 26., 20., 20., 14.],\n",
              "       [20., 21., 26., 26., 22., 24., 18.],\n",
              "       [20., 21., 26., 26., 22., 24., 18.]], dtype=float32)"
            ]
          },
          "metadata": {},
          "execution_count": 11
        }
      ]
    },
    {
      "cell_type": "code",
      "source": [
        "yozo = np.maximum(yoyo[1],0)\n",
        "asbin=yozo.astype(np.uint8).tobytes()\n",
        "bs=binascii.hexlify(asbin).decode()[1::2]\n",
        "bs[::-1]"
      ],
      "metadata": {
        "colab": {
          "base_uri": "https://localhost:8080/",
          "height": 39
        },
        "id": "_KQVRRUAKwzw",
        "outputId": "14a077c3-4e4b-4218-ed05-64de4bae53a4"
      },
      "execution_count": null,
      "outputs": [
        {
          "output_type": "execute_result",
          "data": {
            "text/plain": [
              "'0000110101101100100001110111100010010011'"
            ],
            "application/vnd.google.colaboratory.intrinsic+json": {
              "type": "string"
            }
          },
          "metadata": {},
          "execution_count": 10
        }
      ]
    },
    {
      "cell_type": "code",
      "source": [
        "xrisos = np.argmax(gol,axis=1)\n",
        "qinp = lo[0]"
      ],
      "metadata": {
        "id": "W21T375ey6Fc"
      },
      "execution_count": null,
      "outputs": []
    },
    {
      "cell_type": "code",
      "source": [
        "xrisos"
      ],
      "metadata": {
        "colab": {
          "base_uri": "https://localhost:8080/"
        },
        "id": "X_se5GBibGY5",
        "outputId": "1c33b267-3f26-4d65-d417-ef449da4963b"
      },
      "execution_count": null,
      "outputs": [
        {
          "output_type": "execute_result",
          "data": {
            "text/plain": [
              "array([5])"
            ]
          },
          "metadata": {},
          "execution_count": 40
        }
      ]
    },
    {
      "cell_type": "code",
      "source": [
        "import h5py\n",
        "\n",
        "filename = \"weightspendigits.csv.h5\"\n",
        "\n",
        "h5 = h5py.File(filename,'r')\n",
        "\n",
        "h5.visit(print)\n",
        "#print(h5['q_dense/q_dense/kernel:0'][:,:])\n",
        "#print(h5['q_batch_normalization/q_batch_normalization/beta:0'][:])\n",
        "sw0 = h5['q_dense/q_dense/kernel:0'][:,:]\n",
        "sw1 = h5['q_dense_1/q_dense_1/kernel:0'][:,:]\n",
        "\n",
        "h5.close()"
      ],
      "metadata": {
        "colab": {
          "base_uri": "https://localhost:8080/"
        },
        "id": "nhtkb7dKLxPq",
        "outputId": "44be7046-ba4e-4535-aece-e87942d634d2"
      },
      "execution_count": null,
      "outputs": [
        {
          "output_type": "stream",
          "name": "stdout",
          "text": [
            "activation\n",
            "q_activation\n",
            "q_activation_1\n",
            "q_dense\n",
            "q_dense/q_dense\n",
            "q_dense/q_dense/kernel:0\n",
            "q_dense_1\n",
            "q_dense_1/q_dense_1\n",
            "q_dense_1/q_dense_1/kernel:0\n",
            "top_level_model_weights\n"
          ]
        }
      ]
    },
    {
      "cell_type": "code",
      "source": [
        "def mysign(a):\n",
        "  signs = np.sign(a)\n",
        "\n",
        "  # Replace the sign of the zeroes with 1 (positive) or -1 (negative)\n",
        "  signs_no_zero = np.where(signs == 0, 1, signs)\n",
        "  return signs_no_zero"
      ],
      "metadata": {
        "id": "Pm0qdICClLLZ"
      },
      "execution_count": null,
      "outputs": []
    },
    {
      "cell_type": "code",
      "source": [
        "def grup(x):\n",
        "  x1 = (x) @ mysign(sw0)\n",
        "  x2 = mysign(x1)\n",
        "  x3 = x2 @ sw1\n",
        "  return (x1,x2,x3)\n",
        "def drut(x):\n",
        "  x1 = x @ mysign(sw0)\n",
        "  x2 = mysign(x1)\n",
        "  x3 = x2 @ sw1\n",
        "  am = np.argmax(x3,axis=1)\n",
        "  return am"
      ],
      "metadata": {
        "id": "z1uLXHm762op"
      },
      "execution_count": null,
      "outputs": []
    },
    {
      "cell_type": "code",
      "source": [
        "mysign(sw0)"
      ],
      "metadata": {
        "colab": {
          "base_uri": "https://localhost:8080/"
        },
        "id": "2mqiBTn5wQr6",
        "outputId": "d80bffbf-b1a8-440d-d093-f25098c43aa1"
      },
      "execution_count": null,
      "outputs": [
        {
          "output_type": "execute_result",
          "data": {
            "text/plain": [
              "array([[-1., -1., -1.,  1., -1., -1., -1., -1.,  1.,  1.,  1.,  1.,  1.,\n",
              "         1.,  1., -1.,  1.,  1., -1.,  1.,  1.,  1.,  1.,  1.,  1.,  1.,\n",
              "         1.,  1., -1., -1., -1., -1., -1., -1., -1.,  1., -1.,  1.,  1.,\n",
              "         1.],\n",
              "       [ 1.,  1., -1., -1., -1.,  1.,  1., -1.,  1.,  1., -1.,  1., -1.,\n",
              "         1.,  1., -1.,  1., -1., -1., -1., -1., -1., -1., -1., -1., -1.,\n",
              "         1.,  1., -1., -1.,  1.,  1.,  1., -1., -1., -1., -1.,  1., -1.,\n",
              "         1.],\n",
              "       [-1., -1., -1.,  1., -1., -1.,  1., -1.,  1., -1.,  1., -1.,  1.,\n",
              "         1., -1.,  1., -1., -1., -1.,  1., -1.,  1., -1.,  1., -1.,  1.,\n",
              "        -1., -1., -1.,  1., -1., -1., -1., -1., -1.,  1., -1.,  1., -1.,\n",
              "        -1.],\n",
              "       [-1.,  1., -1.,  1.,  1., -1.,  1.,  1.,  1.,  1.,  1., -1., -1.,\n",
              "        -1.,  1.,  1.,  1.,  1., -1.,  1., -1., -1.,  1., -1., -1.,  1.,\n",
              "         1., -1.,  1., -1.,  1., -1.,  1.,  1., -1., -1.,  1., -1.,  1.,\n",
              "        -1.],\n",
              "       [-1.,  1.,  1., -1.,  1., -1.,  1.,  1., -1., -1.,  1.,  1., -1.,\n",
              "         1., -1., -1.,  1.,  1.,  1.,  1., -1., -1., -1.,  1.,  1.,  1.,\n",
              "         1., -1.,  1., -1.,  1.,  1.,  1.,  1.,  1.,  1., -1., -1.,  1.,\n",
              "        -1.],\n",
              "       [-1., -1.,  1.,  1.,  1.,  1., -1.,  1.,  1., -1., -1., -1.,  1.,\n",
              "         1.,  1.,  1., -1., -1., -1.,  1., -1., -1., -1.,  1.,  1.,  1.,\n",
              "        -1.,  1., -1.,  1., -1., -1., -1.,  1.,  1.,  1., -1., -1., -1.,\n",
              "         1.],\n",
              "       [ 1., -1.,  1.,  1.,  1.,  1., -1., -1., -1., -1., -1.,  1.,  1.,\n",
              "        -1., -1.,  1., -1.,  1.,  1., -1.,  1., -1., -1.,  1., -1., -1.,\n",
              "        -1., -1.,  1., -1.,  1.,  1.,  1.,  1.,  1.,  1.,  1., -1.,  1.,\n",
              "         1.],\n",
              "       [-1., -1.,  1.,  1.,  1., -1., -1., -1., -1., -1., -1., -1.,  1.,\n",
              "        -1., -1.,  1., -1., -1.,  1., -1.,  1.,  1., -1.,  1.,  1.,  1.,\n",
              "        -1., -1., -1.,  1., -1., -1.,  1.,  1.,  1.,  1.,  1., -1.,  1.,\n",
              "        -1.],\n",
              "       [ 1.,  1.,  1., -1.,  1., -1.,  1.,  1., -1.,  1., -1., -1., -1.,\n",
              "        -1., -1.,  1., -1., -1.,  1., -1.,  1.,  1.,  1., -1.,  1., -1.,\n",
              "        -1.,  1.,  1.,  1.,  1.,  1., -1.,  1.,  1., -1.,  1.,  1., -1.,\n",
              "        -1.],\n",
              "       [ 1., -1., -1.,  1.,  1.,  1., -1., -1., -1.,  1.,  1.,  1.,  1.,\n",
              "        -1., -1.,  1.,  1., -1.,  1.,  1.,  1.,  1., -1.,  1.,  1.,  1.,\n",
              "         1., -1., -1.,  1., -1.,  1., -1.,  1., -1.,  1., -1., -1.,  1.,\n",
              "         1.],\n",
              "       [-1.,  1., -1.,  1., -1., -1.,  1.,  1., -1.,  1., -1., -1., -1.,\n",
              "         1., -1., -1., -1., -1., -1., -1.,  1.,  1.,  1., -1.,  1.,  1.,\n",
              "         1.,  1.,  1., -1., -1., -1., -1., -1., -1., -1.,  1., -1.,  1.,\n",
              "        -1.],\n",
              "       [ 1.,  1., -1., -1.,  1.,  1., -1., -1., -1., -1.,  1.,  1.,  1.,\n",
              "        -1., -1., -1.,  1., -1.,  1., -1.,  1.,  1., -1., -1.,  1., -1.,\n",
              "         1.,  1., -1.,  1.,  1., -1., -1.,  1., -1.,  1., -1., -1., -1.,\n",
              "         1.],\n",
              "       [-1., -1.,  1.,  1., -1., -1., -1., -1., -1., -1., -1., -1.,  1.,\n",
              "        -1.,  1., -1., -1.,  1.,  1.,  1.,  1., -1.,  1.,  1., -1.,  1.,\n",
              "        -1.,  1.,  1., -1., -1., -1., -1., -1.,  1.,  1., -1.,  1.,  1.,\n",
              "         1.],\n",
              "       [ 1., -1., -1., -1., -1., -1.,  1., -1., -1., -1., -1.,  1.,  1.,\n",
              "         1.,  1., -1., -1., -1.,  1., -1., -1.,  1.,  1.,  1.,  1., -1.,\n",
              "        -1.,  1., -1., -1.,  1., -1.,  1.,  1., -1., -1.,  1.,  1.,  1.,\n",
              "        -1.],\n",
              "       [-1.,  1.,  1., -1.,  1.,  1., -1., -1., -1., -1.,  1.,  1., -1.,\n",
              "        -1., -1.,  1.,  1.,  1.,  1., -1.,  1.,  1., -1., -1., -1., -1.,\n",
              "         1., -1., -1.,  1.,  1., -1.,  1.,  1.,  1.,  1., -1., -1., -1.,\n",
              "         1.],\n",
              "       [-1., -1., -1., -1., -1., -1.,  1., -1., -1., -1.,  1., -1.,  1.,\n",
              "         1.,  1., -1., -1., -1.,  1.,  1., -1.,  1.,  1.,  1.,  1., -1.,\n",
              "        -1.,  1.,  1., -1.,  1., -1.,  1., -1., -1.,  1.,  1.,  1.,  1.,\n",
              "        -1.]], dtype=float32)"
            ]
          },
          "metadata": {},
          "execution_count": 23
        }
      ]
    },
    {
      "cell_type": "code",
      "source": [
        "inm = lo[0]*16\n",
        "asw0 = mysign(sw0)\n",
        "psw0 = np.maximum(asw0,0)\n",
        "nsw0 = np.minimum(asw0,0)\n",
        "hmp = inm @ psw0\n",
        "hmn = inm @ nsw0\n",
        "inm,hmp, hmn, hmp-hmn, grup(inm)"
      ],
      "metadata": {
        "colab": {
          "base_uri": "https://localhost:8080/"
        },
        "id": "UoZUBU02rtoC",
        "outputId": "f091174b-2a6f-4212-b40c-4b5250fd30c4"
      },
      "execution_count": null,
      "outputs": [
        {
          "output_type": "execute_result",
          "data": {
            "text/plain": [
              "(array([[ 8., 15.,  4., 13.,  9.,  6.,  4.,  0.,  0.,  4.,  9.,  8., 15.,\n",
              "         14.,  6., 15.]], dtype=float32),\n",
              " array([[45., 60., 40., 63., 50., 43., 79., 37., 46., 49., 67., 68., 78.,\n",
              "         80., 86., 37., 63., 55., 75., 74., 54., 68., 74., 79., 73., 68.,\n",
              "         72., 90., 65., 28., 84., 32., 76., 64., 40., 79., 55., 71., 91.,\n",
              "         66.]], dtype=float32),\n",
              " array([[ -85.,  -70.,  -90.,  -67.,  -80.,  -87.,  -51.,  -93.,  -84.,\n",
              "          -81.,  -63.,  -62.,  -52.,  -50.,  -44.,  -93.,  -67.,  -75.,\n",
              "          -55.,  -56.,  -76.,  -62.,  -56.,  -51.,  -57.,  -62.,  -58.,\n",
              "          -40.,  -65., -102.,  -46.,  -98.,  -54.,  -66.,  -90.,  -51.,\n",
              "          -75.,  -59.,  -39.,  -64.]], dtype=float32),\n",
              " array([[130., 130., 130., 130., 130., 130., 130., 130., 130., 130., 130.,\n",
              "         130., 130., 130., 130., 130., 130., 130., 130., 130., 130., 130.,\n",
              "         130., 130., 130., 130., 130., 130., 130., 130., 130., 130., 130.,\n",
              "         130., 130., 130., 130., 130., 130., 130.]], dtype=float32),\n",
              " (array([[-40., -10., -50.,  -4., -30., -44.,  28., -56., -38., -32.,   4.,\n",
              "            6.,  26.,  30.,  42., -56.,  -4., -20.,  20.,  18., -22.,   6.,\n",
              "           18.,  28.,  16.,   6.,  14.,  50.,   0., -74.,  38., -66.,  22.,\n",
              "           -2., -50.,  28., -20.,  12.,  52.,   2.]], dtype=float32),\n",
              "  array([[-1., -1., -1., -1., -1., -1.,  1., -1., -1., -1.,  1.,  1.,  1.,\n",
              "           1.,  1., -1., -1., -1.,  1.,  1., -1.,  1.,  1.,  1.,  1.,  1.,\n",
              "           1.,  1.,  1., -1.,  1., -1.,  1., -1., -1.,  1., -1.,  1.,  1.,\n",
              "           1.]], dtype=float32),\n",
              "  array([[12., -8., -4., -6., -4., 12., 10., -2., 20.,  4.]], dtype=float32)))"
            ]
          },
          "metadata": {},
          "execution_count": 29
        }
      ]
    },
    {
      "cell_type": "code",
      "source": [
        "15*16"
      ],
      "metadata": {
        "colab": {
          "base_uri": "https://localhost:8080/"
        },
        "id": "s8yuL_Bmv-Cg",
        "outputId": "d03320ca-f5a0-4547-d05c-436c95a36768"
      },
      "execution_count": null,
      "outputs": [
        {
          "output_type": "execute_result",
          "data": {
            "text/plain": [
              "240"
            ]
          },
          "metadata": {},
          "execution_count": 22
        }
      ]
    },
    {
      "cell_type": "code",
      "source": [
        "drut(qinp)[0:20]"
      ],
      "metadata": {
        "colab": {
          "base_uri": "https://localhost:8080/"
        },
        "id": "oUrpcFmBbP8z",
        "outputId": "3ad9e13e-fa1e-47a1-b18f-98f19c61b83c"
      },
      "execution_count": null,
      "outputs": [
        {
          "output_type": "execute_result",
          "data": {
            "text/plain": [
              "array([6, 2, 1, 4, 7, 6, 4, 0, 5, 0, 9, 8, 5, 9, 7, 3, 3, 9, 2, 2])"
            ]
          },
          "metadata": {},
          "execution_count": 59
        }
      ]
    },
    {
      "cell_type": "code",
      "source": [
        "y[0:10]"
      ],
      "metadata": {
        "colab": {
          "base_uri": "https://localhost:8080/"
        },
        "id": "EG19gGCVcG76",
        "outputId": "54654ee5-f53c-465d-ffe5-e3ca98a4272f"
      },
      "execution_count": null,
      "outputs": [
        {
          "output_type": "execute_result",
          "data": {
            "text/plain": [
              "0    8\n",
              "1    2\n",
              "2    1\n",
              "3    4\n",
              "4    1\n",
              "5    6\n",
              "6    4\n",
              "7    0\n",
              "8    5\n",
              "9    0\n",
              "Name: 16, dtype: int64"
            ]
          },
          "metadata": {},
          "execution_count": 26
        }
      ]
    },
    {
      "cell_type": "code",
      "source": [
        "glo = lo[2][175]\n",
        "gor = grup(qinp[175])[1]\n",
        "glo, gor, np.where(np.not_equal(glo,gor))"
      ],
      "metadata": {
        "colab": {
          "base_uri": "https://localhost:8080/"
        },
        "id": "kFyrR6SEd2a6",
        "outputId": "3c113fbc-33df-4e94-98ff-80c10666d1e3"
      },
      "execution_count": null,
      "outputs": [
        {
          "output_type": "execute_result",
          "data": {
            "text/plain": [
              "(array([-1., -1., -1., -1., -1., -1., -1., -1.,  1.,  1.,  1., -1.,  1.,\n",
              "        -1., -1.,  1., -1.,  1.,  1.,  1.,  1.,  1.,  1., -1.,  1.,  1.,\n",
              "         1.,  1., -1., -1., -1.,  1.,  1., -1.,  1., -1., -1., -1., -1.,\n",
              "        -1.], dtype=float32),\n",
              " array([-1., -1., -1., -1., -1., -1., -1., -1.,  1.,  0.,  0., -1.,  1.,\n",
              "        -1., -1.,  1., -1.,  1.,  1.,  1.,  1.,  1.,  1., -1.,  1.,  1.,\n",
              "         1.,  1., -1., -1., -1.,  1.,  0., -1.,  1., -1., -1., -1., -1.,\n",
              "        -1.], dtype=float32),\n",
              " (array([ 9, 10, 32]),))"
            ]
          },
          "metadata": {},
          "execution_count": 68
        }
      ]
    },
    {
      "cell_type": "code",
      "source": [
        "lo[0]"
      ],
      "metadata": {
        "colab": {
          "base_uri": "https://localhost:8080/"
        },
        "id": "1vecFKmgvnSj",
        "outputId": "2937fee1-bab0-4ae4-f23f-1b84595f06de"
      },
      "execution_count": null,
      "outputs": [
        {
          "output_type": "execute_result",
          "data": {
            "text/plain": [
              "array([[0.5   , 0.9375, 0.25  , ..., 0.875 , 0.375 , 0.9375],\n",
              "       [0.    , 0.875 , 0.25  , ..., 0.    , 0.9375, 0.0625],\n",
              "       [0.    , 0.5625, 0.3125, ..., 0.25  , 0.1875, 0.    ],\n",
              "       ...,\n",
              "       [0.3125, 0.5   , 0.5625, ..., 0.    , 0.9375, 0.0625],\n",
              "       [0.875 , 0.875 , 0.375 , ..., 0.    , 0.    , 0.0625],\n",
              "       [0.6875, 0.9375, 0.375 , ..., 0.25  , 0.5625, 0.    ]],\n",
              "      dtype=float32)"
            ]
          },
          "metadata": {},
          "execution_count": 61
        }
      ]
    },
    {
      "cell_type": "code",
      "source": [
        "import binascii\n",
        "asd=(lo[0][0]*16).astype(np.uint8).tobytes()\n",
        "binascii.hexlify(asd).decode()[1::2]"
      ],
      "metadata": {
        "id": "VY6uapUwd5zA",
        "colab": {
          "base_uri": "https://localhost:8080/",
          "height": 39
        },
        "outputId": "eb292115-787b-467f-9c39-cd87828c69cd"
      },
      "execution_count": null,
      "outputs": [
        {
          "output_type": "execute_result",
          "data": {
            "text/plain": [
              "'53352264442'"
            ],
            "application/vnd.google.colaboratory.intrinsic+json": {
              "type": "string"
            }
          },
          "metadata": {},
          "execution_count": 9
        }
      ]
    },
    {
      "cell_type": "code",
      "source": [
        "binn = np.maximum(lo[2],0)\n",
        "asbin=binn.astype(np.uint8).tobytes()\n",
        "binascii.hexlify(asbin).decode()[1::2]"
      ],
      "metadata": {
        "colab": {
          "base_uri": "https://localhost:8080/",
          "height": 39
        },
        "id": "gspd5gw5wRba",
        "outputId": "94569535-0d06-4c68-9172-295223864edf"
      },
      "execution_count": null,
      "outputs": [
        {
          "output_type": "execute_result",
          "data": {
            "text/plain": [
              "'0000001000111110001101111111101010010111'"
            ],
            "application/vnd.google.colaboratory.intrinsic+json": {
              "type": "string"
            }
          },
          "metadata": {},
          "execution_count": 11
        }
      ]
    },
    {
      "cell_type": "code",
      "source": [
        "matrix_bin_string(sw0)"
      ],
      "metadata": {
        "colab": {
          "base_uri": "https://localhost:8080/",
          "height": 108
        },
        "id": "_H9korXLUeas",
        "outputId": "022f6a82-8299-428e-9837-219875728861"
      },
      "execution_count": null,
      "outputs": [
        {
          "output_type": "execute_result",
          "data": {
            "text/plain": [
              "'0001000011111110110111111111000000010111110001101101011010000000001100111000010100010010101011010001010101000100000101000101101111100011110100100110101011001010011010110011010011110001111010111111001000111101100011110001000111010100011100011011110000011001011010010000101111111011001110000000100100101101110001001111101011101011010000010010111010011111011011001001110001111001101111011110010101010011010100110100010000001110111110000000101011001100001110001010110010110110010100010011000000001010011110110101100000110111100000100001111000100111100100101100111001101100001100011110110000100110111100010000001000101110001101111001101010011110'"
            ],
            "application/vnd.google.colaboratory.intrinsic+json": {
              "type": "string"
            }
          },
          "metadata": {},
          "execution_count": 18
        }
      ]
    },
    {
      "cell_type": "code",
      "source": [
        "matrix_bin_string(sw1.T)"
      ],
      "metadata": {
        "colab": {
          "base_uri": "https://localhost:8080/",
          "height": 74
        },
        "id": "HZN_mrK8Uyac",
        "outputId": "faf72b1d-3188-4a66-840f-ec4994d6da30"
      },
      "execution_count": null,
      "outputs": [
        {
          "output_type": "execute_result",
          "data": {
            "text/plain": [
              "'1000001001011000001111101001101100001110001111001010000101111101010001111111000101111100001100010101000001100011101000110111111101010100011110011110101101101010110100000100000110101110001101100001000100001011111111100000010110110100110100100001000011110110000000101111000000001110011011100010000111100001101000101011101000000000000011110011011101011110110111100000110001101000011011011111010000010000'"
            ],
            "application/vnd.google.colaboratory.intrinsic+json": {
              "type": "string"
            }
          },
          "metadata": {},
          "execution_count": 19
        }
      ]
    },
    {
      "cell_type": "code",
      "source": [
        "def matrix_bin_string(mat):\n",
        "  flatw=mysign(mat).flatten()\n",
        "  bflat = np.maximum(flatw,0)\n",
        "  flbin=bflat.astype(np.uint8).tobytes()\n",
        "  return binascii.hexlify(flbin).decode()[1::2]"
      ],
      "metadata": {
        "id": "2yt1EODgTzNl"
      },
      "execution_count": null,
      "outputs": []
    },
    {
      "cell_type": "code",
      "source": [
        "sw1"
      ],
      "metadata": {
        "colab": {
          "base_uri": "https://localhost:8080/"
        },
        "id": "m7Wr9IaCNE_L",
        "outputId": "44fd0167-f739-4ccf-e7cd-ce24ff42afe1"
      },
      "execution_count": null,
      "outputs": [
        {
          "output_type": "execute_result",
          "data": {
            "text/plain": [
              "array([[ 1., -1., -1., -1.,  1., -1., -1., -1., -1., -1.],\n",
              "       [-1., -1.,  1.,  1.,  1., -1., -1.,  1., -1., -1.],\n",
              "       [-1.,  1.,  1.,  1., -1., -1., -1.,  1., -1., -1.],\n",
              "       [-1.,  1.,  1.,  1.,  1., -1.,  1., -1., -1., -1.],\n",
              "       [-1.,  1.,  1.,  1., -1.,  1., -1.,  1., -1.,  1.],\n",
              "       [-1.,  1.,  1.,  1., -1., -1., -1.,  1., -1.,  1.],\n",
              "       [ 1., -1., -1.,  1., -1.,  1., -1.,  1., -1., -1.],\n",
              "       [-1., -1., -1.,  1., -1.,  1., -1., -1., -1., -1.],\n",
              "       [-1.,  1., -1., -1., -1.,  1.,  1., -1., -1., -1.],\n",
              "       [ 1., -1., -1.,  1.,  1.,  1.,  1., -1., -1.,  1.],\n",
              "       [-1.,  1.,  1., -1., -1.,  1.,  1.,  1., -1.,  1.],\n",
              "       [ 1., -1.,  1.,  1., -1.,  1.,  1., -1., -1., -1.],\n",
              "       [ 1., -1., -1., -1., -1.,  1., -1., -1.,  1.,  1.],\n",
              "       [-1., -1., -1.,  1., -1.,  1.,  1., -1.,  1., -1.],\n",
              "       [-1., -1., -1., -1., -1.,  1.,  1., -1.,  1., -1.],\n",
              "       [-1.,  1.,  1., -1.,  1., -1., -1.,  1.,  1., -1.],\n",
              "       [-1., -1., -1., -1.,  1., -1., -1.,  1., -1., -1.],\n",
              "       [-1.,  1.,  1.,  1., -1., -1., -1.,  1., -1.,  1.],\n",
              "       [ 1.,  1., -1.,  1.,  1., -1., -1.,  1.,  1.,  1.],\n",
              "       [ 1.,  1.,  1.,  1., -1., -1., -1., -1.,  1., -1.],\n",
              "       [ 1.,  1., -1.,  1.,  1., -1., -1., -1., -1.,  1.],\n",
              "       [ 1.,  1., -1., -1.,  1.,  1., -1., -1.,  1.,  1.],\n",
              "       [ 1., -1., -1., -1.,  1., -1.,  1., -1.,  1., -1.],\n",
              "       [-1.,  1., -1.,  1., -1.,  1., -1.,  1.,  1.,  1.],\n",
              "       [ 1., -1., -1.,  1., -1.,  1.,  1.,  1., -1.,  1.],\n",
              "       [-1.,  1.,  1.,  1., -1., -1.,  1., -1.,  1.,  1.],\n",
              "       [-1., -1.,  1.,  1.,  1.,  1.,  1.,  1., -1.,  1.],\n",
              "       [ 1., -1., -1., -1.,  1.,  1.,  1., -1.,  1.,  1.],\n",
              "       [ 1., -1., -1.,  1., -1., -1., -1., -1.,  1., -1.],\n",
              "       [-1.,  1., -1., -1.,  1.,  1., -1., -1.,  1.,  1.],\n",
              "       [ 1.,  1.,  1.,  1.,  1., -1., -1.,  1.,  1., -1.],\n",
              "       [ 1.,  1.,  1.,  1., -1., -1., -1., -1., -1., -1.],\n",
              "       [-1.,  1.,  1., -1., -1.,  1., -1.,  1.,  1., -1.],\n",
              "       [-1.,  1., -1.,  1., -1.,  1., -1., -1.,  1., -1.],\n",
              "       [-1.,  1.,  1.,  1., -1., -1., -1.,  1., -1., -1.],\n",
              "       [-1.,  1., -1., -1.,  1.,  1., -1.,  1.,  1.,  1.],\n",
              "       [ 1., -1., -1.,  1., -1., -1.,  1.,  1.,  1., -1.],\n",
              "       [ 1., -1., -1., -1., -1., -1.,  1., -1.,  1., -1.],\n",
              "       [ 1., -1.,  1.,  1., -1.,  1.,  1.,  1.,  1., -1.],\n",
              "       [-1.,  1.,  1., -1.,  1., -1., -1., -1., -1., -1.]], dtype=float32)"
            ]
          },
          "metadata": {},
          "execution_count": 14
        }
      ]
    },
    {
      "cell_type": "code",
      "source": [
        "def boopify(x):\n",
        "  return (x+40)/2"
      ],
      "metadata": {
        "id": "kqojn_iwNO4e"
      },
      "execution_count": null,
      "outputs": []
    },
    {
      "cell_type": "code",
      "source": [
        "boopify(lo[3])"
      ],
      "metadata": {
        "colab": {
          "base_uri": "https://localhost:8080/"
        },
        "id": "7-jweGIgNcJH",
        "outputId": "73d204b1-a87a-42a0-ddfe-3f6160590b6e"
      },
      "execution_count": null,
      "outputs": [
        {
          "output_type": "execute_result",
          "data": {
            "text/plain": [
              "array([[26., 16., 18., 17., 18., 26., 25., 19., 30., 22.]], dtype=float32)"
            ]
          },
          "metadata": {},
          "execution_count": 25
        }
      ]
    },
    {
      "cell_type": "code",
      "source": [
        "np.argmax(lo[3])"
      ],
      "metadata": {
        "colab": {
          "base_uri": "https://localhost:8080/"
        },
        "id": "fQCcp2hvaCBi",
        "outputId": "59676f20-432d-42d9-86a5-0faeed33647f"
      },
      "execution_count": null,
      "outputs": [
        {
          "output_type": "execute_result",
          "data": {
            "text/plain": [
              "8"
            ]
          },
          "metadata": {},
          "execution_count": 26
        }
      ]
    },
    {
      "cell_type": "code",
      "source": [
        "#dut = yoyo @ (np.sign(swax))\n",
        "#dd , gg = np.argmax(dut,axis=1),np.argmax(gol,axis=1)\n",
        "hm=np.where(np.not_equal(drut(qinp),y[0:199]))\n",
        "ex=np.where(np.not_equal(xrisos,y[0:199]))\n",
        "#(dd[hm],gg[hm],hm)\n",
        "hm,ex,np.where(np.not_equal(hm,ex))"
      ],
      "metadata": {
        "colab": {
          "base_uri": "https://localhost:8080/"
        },
        "id": "GW6EbDhJsOvA",
        "outputId": "c27015ea-0be8-4e83-af8f-ec042bac83f1"
      },
      "execution_count": null,
      "outputs": [
        {
          "output_type": "execute_result",
          "data": {
            "text/plain": [
              "((array([  9,  19,  27,  29,  38,  49,  61,  63,  66,  70,  97,  99, 117,\n",
              "         126, 132, 134, 154, 160, 167, 180, 194, 196]),),\n",
              " (array([  9,  19,  27,  29,  38,  49,  61,  63,  66,  70,  97,  99, 117,\n",
              "         126, 132, 134, 154, 160, 167, 180, 194, 196]),),\n",
              " (array([], dtype=int64), array([], dtype=int64)))"
            ]
          },
          "metadata": {},
          "execution_count": 89
        }
      ]
    },
    {
      "cell_type": "code",
      "source": [
        "h5.keys()"
      ],
      "metadata": {
        "colab": {
          "base_uri": "https://localhost:8080/",
          "height": 556
        },
        "id": "AZbqv15wNqIu",
        "outputId": "2482cd41-22bb-4873-8c42-10552780ba14"
      },
      "execution_count": null,
      "outputs": [
        {
          "output_type": "error",
          "ename": "ValueError",
          "evalue": "ignored",
          "traceback": [
            "\u001b[0;31m---------------------------------------------------------------------------\u001b[0m",
            "\u001b[0;31mValueError\u001b[0m                                Traceback (most recent call last)",
            "\u001b[0;32m/usr/local/lib/python3.8/dist-packages/IPython/core/formatters.py\u001b[0m in \u001b[0;36m__call__\u001b[0;34m(self, obj)\u001b[0m\n\u001b[1;32m    700\u001b[0m                 \u001b[0mtype_pprinters\u001b[0m\u001b[0;34m=\u001b[0m\u001b[0mself\u001b[0m\u001b[0;34m.\u001b[0m\u001b[0mtype_printers\u001b[0m\u001b[0;34m,\u001b[0m\u001b[0;34m\u001b[0m\u001b[0;34m\u001b[0m\u001b[0m\n\u001b[1;32m    701\u001b[0m                 deferred_pprinters=self.deferred_printers)\n\u001b[0;32m--> 702\u001b[0;31m             \u001b[0mprinter\u001b[0m\u001b[0;34m.\u001b[0m\u001b[0mpretty\u001b[0m\u001b[0;34m(\u001b[0m\u001b[0mobj\u001b[0m\u001b[0;34m)\u001b[0m\u001b[0;34m\u001b[0m\u001b[0;34m\u001b[0m\u001b[0m\n\u001b[0m\u001b[1;32m    703\u001b[0m             \u001b[0mprinter\u001b[0m\u001b[0;34m.\u001b[0m\u001b[0mflush\u001b[0m\u001b[0;34m(\u001b[0m\u001b[0;34m)\u001b[0m\u001b[0;34m\u001b[0m\u001b[0;34m\u001b[0m\u001b[0m\n\u001b[1;32m    704\u001b[0m             \u001b[0;32mreturn\u001b[0m \u001b[0mstream\u001b[0m\u001b[0;34m.\u001b[0m\u001b[0mgetvalue\u001b[0m\u001b[0;34m(\u001b[0m\u001b[0;34m)\u001b[0m\u001b[0;34m\u001b[0m\u001b[0;34m\u001b[0m\u001b[0m\n",
            "\u001b[0;32m/usr/local/lib/python3.8/dist-packages/IPython/lib/pretty.py\u001b[0m in \u001b[0;36mpretty\u001b[0;34m(self, obj)\u001b[0m\n\u001b[1;32m    400\u001b[0m                         \u001b[0;32mif\u001b[0m \u001b[0mcls\u001b[0m \u001b[0;32mis\u001b[0m \u001b[0;32mnot\u001b[0m \u001b[0mobject\u001b[0m\u001b[0;31m \u001b[0m\u001b[0;31m\\\u001b[0m\u001b[0;34m\u001b[0m\u001b[0;34m\u001b[0m\u001b[0m\n\u001b[1;32m    401\u001b[0m                                 \u001b[0;32mand\u001b[0m \u001b[0mcallable\u001b[0m\u001b[0;34m(\u001b[0m\u001b[0mcls\u001b[0m\u001b[0;34m.\u001b[0m\u001b[0m__dict__\u001b[0m\u001b[0;34m.\u001b[0m\u001b[0mget\u001b[0m\u001b[0;34m(\u001b[0m\u001b[0;34m'__repr__'\u001b[0m\u001b[0;34m)\u001b[0m\u001b[0;34m)\u001b[0m\u001b[0;34m:\u001b[0m\u001b[0;34m\u001b[0m\u001b[0;34m\u001b[0m\u001b[0m\n\u001b[0;32m--> 402\u001b[0;31m                             \u001b[0;32mreturn\u001b[0m \u001b[0m_repr_pprint\u001b[0m\u001b[0;34m(\u001b[0m\u001b[0mobj\u001b[0m\u001b[0;34m,\u001b[0m \u001b[0mself\u001b[0m\u001b[0;34m,\u001b[0m \u001b[0mcycle\u001b[0m\u001b[0;34m)\u001b[0m\u001b[0;34m\u001b[0m\u001b[0;34m\u001b[0m\u001b[0m\n\u001b[0m\u001b[1;32m    403\u001b[0m \u001b[0;34m\u001b[0m\u001b[0m\n\u001b[1;32m    404\u001b[0m             \u001b[0;32mreturn\u001b[0m \u001b[0m_default_pprint\u001b[0m\u001b[0;34m(\u001b[0m\u001b[0mobj\u001b[0m\u001b[0;34m,\u001b[0m \u001b[0mself\u001b[0m\u001b[0;34m,\u001b[0m \u001b[0mcycle\u001b[0m\u001b[0;34m)\u001b[0m\u001b[0;34m\u001b[0m\u001b[0;34m\u001b[0m\u001b[0m\n",
            "\u001b[0;32m/usr/local/lib/python3.8/dist-packages/IPython/lib/pretty.py\u001b[0m in \u001b[0;36m_repr_pprint\u001b[0;34m(obj, p, cycle)\u001b[0m\n\u001b[1;32m    695\u001b[0m     \u001b[0;34m\"\"\"A pprint that just redirects to the normal repr function.\"\"\"\u001b[0m\u001b[0;34m\u001b[0m\u001b[0;34m\u001b[0m\u001b[0m\n\u001b[1;32m    696\u001b[0m     \u001b[0;31m# Find newlines and replace them with p.break_()\u001b[0m\u001b[0;34m\u001b[0m\u001b[0;34m\u001b[0m\u001b[0;34m\u001b[0m\u001b[0m\n\u001b[0;32m--> 697\u001b[0;31m     \u001b[0moutput\u001b[0m \u001b[0;34m=\u001b[0m \u001b[0mrepr\u001b[0m\u001b[0;34m(\u001b[0m\u001b[0mobj\u001b[0m\u001b[0;34m)\u001b[0m\u001b[0;34m\u001b[0m\u001b[0;34m\u001b[0m\u001b[0m\n\u001b[0m\u001b[1;32m    698\u001b[0m     \u001b[0;32mfor\u001b[0m \u001b[0midx\u001b[0m\u001b[0;34m,\u001b[0m\u001b[0moutput_line\u001b[0m \u001b[0;32min\u001b[0m \u001b[0menumerate\u001b[0m\u001b[0;34m(\u001b[0m\u001b[0moutput\u001b[0m\u001b[0;34m.\u001b[0m\u001b[0msplitlines\u001b[0m\u001b[0;34m(\u001b[0m\u001b[0;34m)\u001b[0m\u001b[0;34m)\u001b[0m\u001b[0;34m:\u001b[0m\u001b[0;34m\u001b[0m\u001b[0;34m\u001b[0m\u001b[0m\n\u001b[1;32m    699\u001b[0m         \u001b[0;32mif\u001b[0m \u001b[0midx\u001b[0m\u001b[0;34m:\u001b[0m\u001b[0;34m\u001b[0m\u001b[0;34m\u001b[0m\u001b[0m\n",
            "\u001b[0;32m/usr/local/lib/python3.8/dist-packages/h5py/_hl/base.py\u001b[0m in \u001b[0;36m__str__\u001b[0;34m(self)\u001b[0m\n\u001b[1;32m    388\u001b[0m \u001b[0;32mclass\u001b[0m \u001b[0mKeysViewHDF5\u001b[0m\u001b[0;34m(\u001b[0m\u001b[0mKeysView\u001b[0m\u001b[0;34m)\u001b[0m\u001b[0;34m:\u001b[0m\u001b[0;34m\u001b[0m\u001b[0;34m\u001b[0m\u001b[0m\n\u001b[1;32m    389\u001b[0m     \u001b[0;32mdef\u001b[0m \u001b[0m__str__\u001b[0m\u001b[0;34m(\u001b[0m\u001b[0mself\u001b[0m\u001b[0;34m)\u001b[0m\u001b[0;34m:\u001b[0m\u001b[0;34m\u001b[0m\u001b[0;34m\u001b[0m\u001b[0m\n\u001b[0;32m--> 390\u001b[0;31m         \u001b[0;32mreturn\u001b[0m \u001b[0;34m\"<KeysViewHDF5 {}>\"\u001b[0m\u001b[0;34m.\u001b[0m\u001b[0mformat\u001b[0m\u001b[0;34m(\u001b[0m\u001b[0mlist\u001b[0m\u001b[0;34m(\u001b[0m\u001b[0mself\u001b[0m\u001b[0;34m)\u001b[0m\u001b[0;34m)\u001b[0m\u001b[0;34m\u001b[0m\u001b[0;34m\u001b[0m\u001b[0m\n\u001b[0m\u001b[1;32m    391\u001b[0m \u001b[0;34m\u001b[0m\u001b[0m\n\u001b[1;32m    392\u001b[0m     \u001b[0m__repr__\u001b[0m \u001b[0;34m=\u001b[0m \u001b[0m__str__\u001b[0m\u001b[0;34m\u001b[0m\u001b[0;34m\u001b[0m\u001b[0m\n",
            "\u001b[0;32m/usr/lib/python3.8/_collections_abc.py\u001b[0m in \u001b[0;36m__len__\u001b[0;34m(self)\u001b[0m\n\u001b[1;32m    700\u001b[0m \u001b[0;34m\u001b[0m\u001b[0m\n\u001b[1;32m    701\u001b[0m     \u001b[0;32mdef\u001b[0m \u001b[0m__len__\u001b[0m\u001b[0;34m(\u001b[0m\u001b[0mself\u001b[0m\u001b[0;34m)\u001b[0m\u001b[0;34m:\u001b[0m\u001b[0;34m\u001b[0m\u001b[0;34m\u001b[0m\u001b[0m\n\u001b[0;32m--> 702\u001b[0;31m         \u001b[0;32mreturn\u001b[0m \u001b[0mlen\u001b[0m\u001b[0;34m(\u001b[0m\u001b[0mself\u001b[0m\u001b[0;34m.\u001b[0m\u001b[0m_mapping\u001b[0m\u001b[0;34m)\u001b[0m\u001b[0;34m\u001b[0m\u001b[0;34m\u001b[0m\u001b[0m\n\u001b[0m\u001b[1;32m    703\u001b[0m \u001b[0;34m\u001b[0m\u001b[0m\n\u001b[1;32m    704\u001b[0m     \u001b[0;32mdef\u001b[0m \u001b[0m__repr__\u001b[0m\u001b[0;34m(\u001b[0m\u001b[0mself\u001b[0m\u001b[0;34m)\u001b[0m\u001b[0;34m:\u001b[0m\u001b[0;34m\u001b[0m\u001b[0;34m\u001b[0m\u001b[0m\n",
            "\u001b[0;32mh5py/_objects.pyx\u001b[0m in \u001b[0;36mh5py._objects.with_phil.wrapper\u001b[0;34m()\u001b[0m\n",
            "\u001b[0;32mh5py/_objects.pyx\u001b[0m in \u001b[0;36mh5py._objects.with_phil.wrapper\u001b[0;34m()\u001b[0m\n",
            "\u001b[0;32m/usr/local/lib/python3.8/dist-packages/h5py/_hl/group.py\u001b[0m in \u001b[0;36m__len__\u001b[0;34m(self)\u001b[0m\n\u001b[1;32m    426\u001b[0m     \u001b[0;32mdef\u001b[0m \u001b[0m__len__\u001b[0m\u001b[0;34m(\u001b[0m\u001b[0mself\u001b[0m\u001b[0;34m)\u001b[0m\u001b[0;34m:\u001b[0m\u001b[0;34m\u001b[0m\u001b[0;34m\u001b[0m\u001b[0m\n\u001b[1;32m    427\u001b[0m         \u001b[0;34m\"\"\" Number of members attached to this group \"\"\"\u001b[0m\u001b[0;34m\u001b[0m\u001b[0;34m\u001b[0m\u001b[0m\n\u001b[0;32m--> 428\u001b[0;31m         \u001b[0;32mreturn\u001b[0m \u001b[0mself\u001b[0m\u001b[0;34m.\u001b[0m\u001b[0mid\u001b[0m\u001b[0;34m.\u001b[0m\u001b[0mget_num_objs\u001b[0m\u001b[0;34m(\u001b[0m\u001b[0;34m)\u001b[0m\u001b[0;34m\u001b[0m\u001b[0;34m\u001b[0m\u001b[0m\n\u001b[0m\u001b[1;32m    429\u001b[0m \u001b[0;34m\u001b[0m\u001b[0m\n\u001b[1;32m    430\u001b[0m     \u001b[0;34m@\u001b[0m\u001b[0mwith_phil\u001b[0m\u001b[0;34m\u001b[0m\u001b[0;34m\u001b[0m\u001b[0m\n",
            "\u001b[0;32mh5py/_objects.pyx\u001b[0m in \u001b[0;36mh5py._objects.with_phil.wrapper\u001b[0;34m()\u001b[0m\n",
            "\u001b[0;32mh5py/_objects.pyx\u001b[0m in \u001b[0;36mh5py._objects.with_phil.wrapper\u001b[0;34m()\u001b[0m\n",
            "\u001b[0;32mh5py/h5g.pyx\u001b[0m in \u001b[0;36mh5py.h5g.GroupID.get_num_objs\u001b[0;34m()\u001b[0m\n",
            "\u001b[0;31mValueError\u001b[0m: Invalid group (or file) id (invalid group (or file) ID)"
          ]
        }
      ]
    },
    {
      "cell_type": "code",
      "source": [
        "h5['q_dense_1/q_dense_1/kernel:0'][:,:]"
      ],
      "metadata": {
        "colab": {
          "base_uri": "https://localhost:8080/",
          "height": 462
        },
        "id": "aI0A96aNPZw9",
        "outputId": "f2e59f72-d106-4553-fa1f-85b693b1d197"
      },
      "execution_count": null,
      "outputs": [
        {
          "output_type": "error",
          "ename": "ValueError",
          "evalue": "ignored",
          "traceback": [
            "\u001b[0;31m---------------------------------------------------------------------------\u001b[0m",
            "\u001b[0;31mValueError\u001b[0m                                Traceback (most recent call last)",
            "\u001b[0;32m<ipython-input-15-d168f28e0cf6>\u001b[0m in \u001b[0;36m<module>\u001b[0;34m\u001b[0m\n\u001b[0;32m----> 1\u001b[0;31m \u001b[0mh5\u001b[0m\u001b[0;34m[\u001b[0m\u001b[0;34m'q_dense_1/q_dense_1/kernel:0'\u001b[0m\u001b[0;34m]\u001b[0m\u001b[0;34m[\u001b[0m\u001b[0;34m:\u001b[0m\u001b[0;34m,\u001b[0m\u001b[0;34m:\u001b[0m\u001b[0;34m]\u001b[0m\u001b[0;34m\u001b[0m\u001b[0;34m\u001b[0m\u001b[0m\n\u001b[0m",
            "\u001b[0;32mh5py/_objects.pyx\u001b[0m in \u001b[0;36mh5py._objects.with_phil.wrapper\u001b[0;34m()\u001b[0m\n",
            "\u001b[0;32mh5py/_objects.pyx\u001b[0m in \u001b[0;36mh5py._objects.with_phil.wrapper\u001b[0;34m()\u001b[0m\n",
            "\u001b[0;32m/usr/local/lib/python3.8/dist-packages/h5py/_hl/group.py\u001b[0m in \u001b[0;36m__getitem__\u001b[0;34m(self, name)\u001b[0m\n\u001b[1;32m    286\u001b[0m                 \u001b[0;32mraise\u001b[0m \u001b[0mValueError\u001b[0m\u001b[0;34m(\u001b[0m\u001b[0;34m\"Invalid HDF5 object reference\"\u001b[0m\u001b[0;34m)\u001b[0m\u001b[0;34m\u001b[0m\u001b[0;34m\u001b[0m\u001b[0m\n\u001b[1;32m    287\u001b[0m         \u001b[0;32melse\u001b[0m\u001b[0;34m:\u001b[0m\u001b[0;34m\u001b[0m\u001b[0;34m\u001b[0m\u001b[0m\n\u001b[0;32m--> 288\u001b[0;31m             \u001b[0moid\u001b[0m \u001b[0;34m=\u001b[0m \u001b[0mh5o\u001b[0m\u001b[0;34m.\u001b[0m\u001b[0mopen\u001b[0m\u001b[0;34m(\u001b[0m\u001b[0mself\u001b[0m\u001b[0;34m.\u001b[0m\u001b[0mid\u001b[0m\u001b[0;34m,\u001b[0m \u001b[0mself\u001b[0m\u001b[0;34m.\u001b[0m\u001b[0m_e\u001b[0m\u001b[0;34m(\u001b[0m\u001b[0mname\u001b[0m\u001b[0;34m)\u001b[0m\u001b[0;34m,\u001b[0m \u001b[0mlapl\u001b[0m\u001b[0;34m=\u001b[0m\u001b[0mself\u001b[0m\u001b[0;34m.\u001b[0m\u001b[0m_lapl\u001b[0m\u001b[0;34m)\u001b[0m\u001b[0;34m\u001b[0m\u001b[0;34m\u001b[0m\u001b[0m\n\u001b[0m\u001b[1;32m    289\u001b[0m \u001b[0;34m\u001b[0m\u001b[0m\n\u001b[1;32m    290\u001b[0m         \u001b[0motype\u001b[0m \u001b[0;34m=\u001b[0m \u001b[0mh5i\u001b[0m\u001b[0;34m.\u001b[0m\u001b[0mget_type\u001b[0m\u001b[0;34m(\u001b[0m\u001b[0moid\u001b[0m\u001b[0;34m)\u001b[0m\u001b[0;34m\u001b[0m\u001b[0;34m\u001b[0m\u001b[0m\n",
            "\u001b[0;32mh5py/_objects.pyx\u001b[0m in \u001b[0;36mh5py._objects.with_phil.wrapper\u001b[0;34m()\u001b[0m\n",
            "\u001b[0;32mh5py/_objects.pyx\u001b[0m in \u001b[0;36mh5py._objects.with_phil.wrapper\u001b[0;34m()\u001b[0m\n",
            "\u001b[0;32mh5py/h5o.pyx\u001b[0m in \u001b[0;36mh5py.h5o.open\u001b[0;34m()\u001b[0m\n",
            "\u001b[0;31mValueError\u001b[0m: Invalid location identifier (invalid location identifier)"
          ]
        }
      ]
    },
    {
      "cell_type": "code",
      "source": [
        "list(QBatchNormalization().quantizers)"
      ],
      "metadata": {
        "colab": {
          "base_uri": "https://localhost:8080/"
        },
        "id": "vQAg-y66TSHQ",
        "outputId": "4bfd20e9-2560-47b2-9496-185d5010dcb6"
      },
      "execution_count": null,
      "outputs": [
        {
          "output_type": "execute_result",
          "data": {
            "text/plain": [
              "[<qkeras.quantizers.quantized_relu_po2 at 0x7fb3e48dd4f0>,\n",
              " <qkeras.quantizers.quantized_po2 at 0x7fb3e3a95610>,\n",
              " <qkeras.quantizers.quantized_po2 at 0x7fb3e3a95fd0>,\n",
              " <qkeras.quantizers.quantized_relu_po2 at 0x7fb3e3a955b0>]"
            ]
          },
          "metadata": {},
          "execution_count": 66
        }
      ]
    },
    {
      "cell_type": "code",
      "source": [
        "import keras.backend as K\n",
        "\n",
        "def get_layer_outputs(model, x):\n",
        "    \"\"\"\n",
        "    Returns the output of every layer in a Keras model evaluated at the input x.\n",
        "    \n",
        "    Args:\n",
        "    model: A Keras model object.\n",
        "    x: The input to the model as a Numpy array or a list of Numpy arrays.\n",
        "    \n",
        "    Returns:\n",
        "    A list of Numpy arrays, where the i-th element is the output of the i-th layer\n",
        "    in the model evaluated at the input x.\n",
        "    \"\"\"\n",
        "    # Create a function that computes the output of every layer given the input\n",
        "    layer_outputs = [layer.output for layer in model.layers]\n",
        "    layer_eval_fn = K.function(inputs=[model.input], outputs=layer_outputs)\n",
        "    \n",
        "    # Evaluate the function at the input\n",
        "    output_values = layer_eval_fn([x])\n",
        "    \n",
        "    return output_values\n"
      ],
      "metadata": {
        "id": "qjpdNkMXUCXh"
      },
      "execution_count": null,
      "outputs": []
    },
    {
      "cell_type": "code",
      "source": [
        "import binascii\n",
        "asd=(lo[0]*16).astype(int)\n",
        "asduts = np.round((inpux*16)).astype(int)\n",
        "asdut = np.minimum(15,asduts)\n",
        "\n",
        "np.array_equal(asd,asdut)"
      ],
      "metadata": {
        "colab": {
          "base_uri": "https://localhost:8080/"
        },
        "outputId": "cb67b6b6-c901-4f51-85b4-9a387832ff4d",
        "id": "YoEhySHQzgQ5"
      },
      "execution_count": null,
      "outputs": [
        {
          "output_type": "execute_result",
          "data": {
            "text/plain": [
              "True"
            ]
          },
          "metadata": {},
          "execution_count": 30
        }
      ]
    },
    {
      "cell_type": "code",
      "source": [
        "import binascii\n",
        "def qnorm(Xa):\n",
        "  return pd.DataFrame(Xa.apply(lambda x: (x - np.min(x)) / (np.max(x) - np.min(x))))\n",
        "\n",
        "def qfour(Xa):\n",
        "  Xc = qnorm(Xa)\n",
        "  Xb = np.round(Xc*16).astype(int)\n",
        "  return np.minimum(15,Xb)\n",
        "\n",
        "def hexdump4(X):\n",
        "  N = X.astype(np.uint8).tobytes()\n",
        "  return binascii.hexlify(N).decode()[1::2]\n",
        "\n",
        "def hexiby(X):\n",
        "  Y = [row.to_numpy() for index, row in qfour(X).iterrows()]\n",
        "  return [hexdump4(x) for x in Y]\n"
      ],
      "metadata": {
        "id": "BLXnhbnL02t_"
      },
      "execution_count": null,
      "outputs": []
    },
    {
      "cell_type": "code",
      "source": [
        "jkj = hexiby(Xx)[0:20]\n",
        "#np.array_equal(asd,jkj)\n",
        "jkj"
      ],
      "metadata": {
        "colab": {
          "base_uri": "https://localhost:8080/"
        },
        "id": "3TeGTa9C3Wg7",
        "outputId": "ab93a0a9-30a2-4761-9867-907050501876"
      },
      "execution_count": null,
      "outputs": [
        {
          "output_type": "execute_result",
          "data": {
            "text/plain": [
              "['8f4d96400498fe6f',\n",
              " '0e4f7c572260b0f1',\n",
              " '095bceffcc884430',\n",
              " '0f1f1b37e5f7c4b0',\n",
              " '0b8dffddaa665380',\n",
              " 'ffef8c380360c333',\n",
              " '0f0c46e6fbcfa8b0',\n",
              " '060a21a0f7ef6f09',\n",
              " '2e28c690130a5fff',\n",
              " '9f4c0540c2f8ce4e',\n",
              " 'ce5f0baafdf6d030',\n",
              " '8faae43035dbff0e',\n",
              " 'ffcf6c59d8a23000',\n",
              " 'fc9f0e49dbf6d130',\n",
              " '0e6fdee8d29084f4',\n",
              " '6c9fffbbd6d15003',\n",
              " '8dbfcc88f7f28001',\n",
              " 'fdaf4cdbfaf49003',\n",
              " '4b7f9a54003290f0',\n",
              " '0c3fcfbc581370f0']"
            ]
          },
          "metadata": {},
          "execution_count": 59
        }
      ]
    },
    {
      "cell_type": "code",
      "source": [
        "from keras.models import load_model\n",
        "def get_results(fname):\n",
        "    df = pd.read_csv(fname, header=None)\n",
        "    X = df.iloc[:, :-1]\n",
        "    \n",
        "    X = pd.DataFrame(X.apply(lambda x: (x - np.min(x)) / (np.max(x) - np.min(x))))\n",
        "    \n",
        "    model = load_model(fname+\"fptuner.h5\", custom_objects={'QActivation': QActivation,'QDense':QDense})\n",
        "   \n",
        "    output=model.predict(X)\n",
        "    clases = np.argmax(output, axis=1)\n",
        "    return clases\n",
        "    "
      ],
      "metadata": {
        "id": "nX030pQO9pwG"
      },
      "execution_count": null,
      "outputs": []
    },
    {
      "cell_type": "code",
      "source": [
        "get_results(\"pendigits.csv\")[0:14]"
      ],
      "metadata": {
        "colab": {
          "base_uri": "https://localhost:8080/"
        },
        "id": "-azFFiy3KLFw",
        "outputId": "19d6bbd7-f154-4bb6-cee8-c7fa9fda055f"
      },
      "execution_count": null,
      "outputs": [
        {
          "output_type": "stream",
          "name": "stderr",
          "text": [
            "WARNING:tensorflow:From /usr/local/lib/python3.9/dist-packages/tensorflow/python/autograph/pyct/static_analysis/liveness.py:83: Analyzer.lamba_check (from tensorflow.python.autograph.pyct.static_analysis.liveness) is deprecated and will be removed after 2023-09-23.\n",
            "Instructions for updating:\n",
            "Lambda fuctions will be no more assumed to be used in the statement where they are used, or at least in the same block. https://github.com/tensorflow/tensorflow/issues/56089\n",
            "/usr/local/lib/python3.9/dist-packages/keras/initializers/initializers_v2.py:120: UserWarning: The initializer HeNormal is unseeded and being called multiple times, which will return identical values  each time (even if the initializer is unseeded). Please update your code to provide a seed to the initializer, or avoid using the same initalizer instance more than once.\n",
            "  warnings.warn(\n"
          ]
        },
        {
          "output_type": "stream",
          "name": "stdout",
          "text": [
            "235/235 [==============================] - 1s 2ms/step\n"
          ]
        },
        {
          "output_type": "execute_result",
          "data": {
            "text/plain": [
              "array([8, 2, 1, 4, 1, 6, 4, 0, 5, 0, 9, 8, 5, 9])"
            ]
          },
          "metadata": {},
          "execution_count": 5
        }
      ]
    },
    {
      "cell_type": "code",
      "source": [
        "def write_strings_to_file(strings, file_path):\n",
        "    with open(file_path, 'w') as file:\n",
        "        for string in strings:\n",
        "            file.write(str(string) + '\\n')"
      ],
      "metadata": {
        "id": "kSSltuAjPT2_"
      },
      "execution_count": null,
      "outputs": []
    },
    {
      "cell_type": "code",
      "source": [
        "for fname in get_csv_filenames():\n",
        "  gres = get_results(fname).tolist()\n",
        "  write_strings_to_file(gres,'results_'+fname+'.results')"
      ],
      "metadata": {
        "colab": {
          "base_uri": "https://localhost:8080/"
        },
        "id": "SIPmpkMtOJGH",
        "outputId": "410e6e11-ad57-4093-ad81-37fa9a7ee29b"
      },
      "execution_count": null,
      "outputs": [
        {
          "output_type": "stream",
          "name": "stdout",
          "text": [
            "\r 1/50 [..............................] - ETA: 5s"
          ]
        },
        {
          "output_type": "stream",
          "name": "stderr",
          "text": [
            "/usr/local/lib/python3.9/dist-packages/keras/initializers/initializers_v2.py:120: UserWarning: The initializer HeNormal is unseeded and being called multiple times, which will return identical values  each time (even if the initializer is unseeded). Please update your code to provide a seed to the initializer, or avoid using the same initalizer instance more than once.\n",
            "  warnings.warn(\n"
          ]
        },
        {
          "output_type": "stream",
          "name": "stdout",
          "text": [
            "50/50 [==============================] - 0s 2ms/step\n",
            " 1/67 [..............................] - ETA: 7s"
          ]
        },
        {
          "output_type": "stream",
          "name": "stderr",
          "text": [
            "/usr/local/lib/python3.9/dist-packages/keras/initializers/initializers_v2.py:120: UserWarning: The initializer HeNormal is unseeded and being called multiple times, which will return identical values  each time (even if the initializer is unseeded). Please update your code to provide a seed to the initializer, or avoid using the same initalizer instance more than once.\n",
            "  warnings.warn(\n"
          ]
        },
        {
          "output_type": "stream",
          "name": "stdout",
          "text": [
            "67/67 [==============================] - 0s 2ms/step\n",
            "  1/154 [..............................] - ETA: 17s"
          ]
        },
        {
          "output_type": "stream",
          "name": "stderr",
          "text": [
            "/usr/local/lib/python3.9/dist-packages/keras/initializers/initializers_v2.py:120: UserWarning: The initializer HeNormal is unseeded and being called multiple times, which will return identical values  each time (even if the initializer is unseeded). Please update your code to provide a seed to the initializer, or avoid using the same initalizer instance more than once.\n",
            "  warnings.warn(\n"
          ]
        },
        {
          "output_type": "stream",
          "name": "stdout",
          "text": [
            "154/154 [==============================] - 0s 2ms/step\n",
            " 1/14 [=>............................] - ETA: 1s"
          ]
        },
        {
          "output_type": "stream",
          "name": "stderr",
          "text": [
            "/usr/local/lib/python3.9/dist-packages/keras/initializers/initializers_v2.py:120: UserWarning: The initializer HeNormal is unseeded and being called multiple times, which will return identical values  each time (even if the initializer is unseeded). Please update your code to provide a seed to the initializer, or avoid using the same initalizer instance more than once.\n",
            "  warnings.warn(\n"
          ]
        },
        {
          "output_type": "stream",
          "name": "stdout",
          "text": [
            "\b\b\b\b\b\b\b\b\b\b\b\b\b\b\b\b\b\b\b\b\b\b\b\b\b\b\b\b\b\b\b\b\b\b\b\b\b\b\b\b\b\b\b\b\b\b\b\b\r14/14 [==============================] - 0s 2ms/step\n"
          ]
        },
        {
          "output_type": "stream",
          "name": "stderr",
          "text": [
            "/usr/local/lib/python3.9/dist-packages/keras/initializers/initializers_v2.py:120: UserWarning: The initializer HeNormal is unseeded and being called multiple times, which will return identical values  each time (even if the initializer is unseeded). Please update your code to provide a seed to the initializer, or avoid using the same initalizer instance more than once.\n",
            "  warnings.warn(\n"
          ]
        },
        {
          "output_type": "stream",
          "name": "stdout",
          "text": [
            "435/435 [==============================] - 1s 2ms/step\n",
            " 1/93 [..............................] - ETA: 9s"
          ]
        },
        {
          "output_type": "stream",
          "name": "stderr",
          "text": [
            "/usr/local/lib/python3.9/dist-packages/keras/initializers/initializers_v2.py:120: UserWarning: The initializer HeNormal is unseeded and being called multiple times, which will return identical values  each time (even if the initializer is unseeded). Please update your code to provide a seed to the initializer, or avoid using the same initalizer instance more than once.\n",
            "  warnings.warn(\n"
          ]
        },
        {
          "output_type": "stream",
          "name": "stdout",
          "text": [
            "93/93 [==============================] - 0s 2ms/step\n"
          ]
        },
        {
          "output_type": "stream",
          "name": "stderr",
          "text": [
            "/usr/local/lib/python3.9/dist-packages/keras/initializers/initializers_v2.py:120: UserWarning: The initializer HeNormal is unseeded and being called multiple times, which will return identical values  each time (even if the initializer is unseeded). Please update your code to provide a seed to the initializer, or avoid using the same initalizer instance more than once.\n",
            "  warnings.warn(\n"
          ]
        },
        {
          "output_type": "stream",
          "name": "stdout",
          "text": [
            "235/235 [==============================] - 1s 2ms/step\n"
          ]
        }
      ]
    }
  ]
}